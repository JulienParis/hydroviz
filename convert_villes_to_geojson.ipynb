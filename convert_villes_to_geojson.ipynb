{
 "cells": [
  {
   "cell_type": "code",
   "execution_count": 23,
   "metadata": {
    "collapsed": true
   },
   "outputs": [],
   "source": [
    "### basic libraries\n",
    "import os\n",
    "import itertools\n",
    "from datetime import datetime\n",
    "from json import dumps\n",
    "import pandas as pd \n",
    "import numpy as np\n",
    "\n",
    "### carto libraries\n",
    "import shapefile ### not necessary ?\n",
    "import geopandas as gp\n",
    "#from shapely.geometry import Polygon\n",
    "from shapely.geometry import shape, Point\n",
    "\n",
    "### for plotting in Jupyter\n",
    "%matplotlib inline\n",
    "import matplotlib.pyplot as plt\n",
    "#import seaborn as sns\n",
    "plt.rcParams[\"figure.figsize\"] = (10.0, 10.0)\n",
    "#plt.style.use(\"bmh\")\n",
    "plt.style.use(\"ggplot\")\n",
    "\n",
    "#from app.scripts.topojson import topojson\n",
    "\n",
    "from pyproj import Proj, transform ### not necessary ?\n",
    "\n",
    "crs_lambert93 = 2154\n",
    "crs_WSG84     = 4326\n",
    "inCRS  = 'epsg:%s' %(crs_lambert93)\n",
    "outCRS = 'epsg:%s' %(crs_WSG84)\n",
    "inProj  = Proj(init=inCRS)  # proj in  : Lambert 93\n",
    "outProj = Proj(init=outCRS) # proj out : WSG 84\n",
    "\n"
   ]
  },
  {
   "cell_type": "code",
   "execution_count": 24,
   "metadata": {
    "collapsed": false
   },
   "outputs": [
    {
     "name": "stdout",
     "output_type": "stream",
     "text": [
      "-- cwd : /Users/jpy/Dropbox/_FLASK/concours_pesticides\n",
      "-- stats_web_path :  /Users/jpy/Dropbox/_FLASK/concours_pesticides/app/static/data/stats_web\n",
      "-- carto_web_path :  /Users/jpy/Dropbox/_FLASK/concours_pesticides/app/static/data/carto_web\n"
     ]
    }
   ],
   "source": [
    "### basic folders addresses and names\n",
    "\n",
    "cwd = os.getcwd()\n",
    "\n",
    "data_folder      = \"app/static/data\"\n",
    "\n",
    "stats_folder     = \"stats\"\n",
    "_web             = \"_web\" \n",
    "stats_web_folder = stats_folder + _web\n",
    "\n",
    "stats_path     = os.path.join(cwd, data_folder, stats_folder)\n",
    "stats_web_path = os.path.join(cwd, data_folder, stats_web_folder)\n",
    "\n",
    "\n",
    "carto_folder     = \"carto\"\n",
    "_web             = \"_web\"\n",
    "carto_web_folder = carto_folder + _web\n",
    "\n",
    "carto_path     = os.path.join(cwd, data_folder, carto_folder)\n",
    "carto_web_path = os.path.join(cwd, data_folder, carto_web_folder)\n",
    "\n",
    "\n",
    "\n",
    "print \"-- cwd :\"            , cwd\n",
    "print \"-- stats_web_path : \", stats_web_path\n",
    "print \"-- carto_web_path : \", carto_web_path"
   ]
  },
  {
   "cell_type": "code",
   "execution_count": 65,
   "metadata": {
    "collapsed": false
   },
   "outputs": [
    {
     "name": "stdout",
     "output_type": "stream",
     "text": [
      "/Users/jpy/Dropbox/_FLASK/concours_pesticides/app/static/data/stats_web/villes_france.csv\n"
     ]
    },
    {
     "data": {
      "text/html": [
       "<div>\n",
       "<table border=\"1\" class=\"dataframe\">\n",
       "  <thead>\n",
       "    <tr style=\"text-align: right;\">\n",
       "      <th></th>\n",
       "      <th>code postal</th>\n",
       "      <th>insee</th>\n",
       "      <th>article</th>\n",
       "      <th>ville</th>\n",
       "      <th>ARTICLE</th>\n",
       "      <th>VILLE</th>\n",
       "      <th>libelle</th>\n",
       "      <th>region</th>\n",
       "      <th>nom region</th>\n",
       "      <th>dep</th>\n",
       "      <th>nom dep</th>\n",
       "      <th>longitude</th>\n",
       "      <th>latitude</th>\n",
       "      <th>codex</th>\n",
       "      <th>metaphone</th>\n",
       "    </tr>\n",
       "  </thead>\n",
       "  <tbody>\n",
       "    <tr>\n",
       "      <th>0</th>\n",
       "      <td>1500</td>\n",
       "      <td>01004</td>\n",
       "      <td>NaN</td>\n",
       "      <td>Ambérieu-en-Bugey</td>\n",
       "      <td>NaN</td>\n",
       "      <td>AMBERIEU-EN-BUGEY</td>\n",
       "      <td>AMBERIEU EN BUGEY</td>\n",
       "      <td>82</td>\n",
       "      <td>RHONE-ALPES</td>\n",
       "      <td>01</td>\n",
       "      <td>Ain</td>\n",
       "      <td>45.979851</td>\n",
       "      <td>5.336890</td>\n",
       "      <td>A516</td>\n",
       "      <td>AMPRNPJ</td>\n",
       "    </tr>\n",
       "    <tr>\n",
       "      <th>1</th>\n",
       "      <td>1330</td>\n",
       "      <td>01005</td>\n",
       "      <td>NaN</td>\n",
       "      <td>Ambérieux-en-Dombes</td>\n",
       "      <td>NaN</td>\n",
       "      <td>AMBERIEUX-EN-DOMBES</td>\n",
       "      <td>AMBERIEUX EN DOMBES</td>\n",
       "      <td>82</td>\n",
       "      <td>RHONE-ALPES</td>\n",
       "      <td>01</td>\n",
       "      <td>Ain</td>\n",
       "      <td>45.998057</td>\n",
       "      <td>4.902498</td>\n",
       "      <td>A516</td>\n",
       "      <td>AMPRKSNTMPS</td>\n",
       "    </tr>\n",
       "    <tr>\n",
       "      <th>2</th>\n",
       "      <td>1300</td>\n",
       "      <td>01006</td>\n",
       "      <td>NaN</td>\n",
       "      <td>Ambléon</td>\n",
       "      <td>NaN</td>\n",
       "      <td>AMBLEON</td>\n",
       "      <td>AMBLEON</td>\n",
       "      <td>82</td>\n",
       "      <td>RHONE-ALPES</td>\n",
       "      <td>01</td>\n",
       "      <td>Ain</td>\n",
       "      <td>45.749870</td>\n",
       "      <td>5.601326</td>\n",
       "      <td>A514</td>\n",
       "      <td>AMPLN</td>\n",
       "    </tr>\n",
       "  </tbody>\n",
       "</table>\n",
       "</div>"
      ],
      "text/plain": [
       "   code postal  insee article                ville ARTICLE  \\\n",
       "0         1500  01004     NaN    Ambérieu-en-Bugey     NaN   \n",
       "1         1330  01005     NaN  Ambérieux-en-Dombes     NaN   \n",
       "2         1300  01006     NaN              Ambléon     NaN   \n",
       "\n",
       "                 VILLE              libelle  region   nom region dep nom dep  \\\n",
       "0    AMBERIEU-EN-BUGEY    AMBERIEU EN BUGEY      82  RHONE-ALPES  01     Ain   \n",
       "1  AMBERIEUX-EN-DOMBES  AMBERIEUX EN DOMBES      82  RHONE-ALPES  01     Ain   \n",
       "2              AMBLEON              AMBLEON      82  RHONE-ALPES  01     Ain   \n",
       "\n",
       "   longitude  latitude codex    metaphone  \n",
       "0  45.979851  5.336890  A516      AMPRNPJ  \n",
       "1  45.998057  4.902498  A516  AMPRKSNTMPS  \n",
       "2  45.749870  5.601326  A514        AMPLN  "
      ]
     },
     "execution_count": 65,
     "metadata": {},
     "output_type": "execute_result"
    }
   ],
   "source": [
    "### read villes_france.csv from : data/stats_web\n",
    "\n",
    "#_sep_csv         = \";\"\n",
    "csv_encoding_web = \"utf-8\"\n",
    "\n",
    "villes_filename = \"villes_france.csv\"\n",
    "villes_web_filepath = os.path.join(stats_web_path, villes_filename)\n",
    "print villes_web_filepath\n",
    "\n",
    "df_villes_web = pd.read_csv( villes_web_filepath, sep=\",\", encoding=csv_encoding_web )\n",
    "\n",
    "df_villes_web.head(3)"
   ]
  },
  {
   "cell_type": "code",
   "execution_count": 66,
   "metadata": {
    "collapsed": false
   },
   "outputs": [
    {
     "data": {
      "text/html": [
       "<div>\n",
       "<table border=\"1\" class=\"dataframe\">\n",
       "  <thead>\n",
       "    <tr style=\"text-align: right;\">\n",
       "      <th></th>\n",
       "      <th>code postal</th>\n",
       "      <th>insee</th>\n",
       "      <th>article</th>\n",
       "      <th>ville</th>\n",
       "      <th>ARTICLE</th>\n",
       "      <th>VILLE</th>\n",
       "      <th>libelle</th>\n",
       "      <th>region</th>\n",
       "      <th>nom region</th>\n",
       "      <th>dep</th>\n",
       "      <th>nom dep</th>\n",
       "      <th>longitude</th>\n",
       "      <th>latitude</th>\n",
       "      <th>codex</th>\n",
       "      <th>metaphone</th>\n",
       "      <th>geometry</th>\n",
       "    </tr>\n",
       "  </thead>\n",
       "  <tbody>\n",
       "    <tr>\n",
       "      <th>37007</th>\n",
       "      <td>75000</td>\n",
       "      <td>75056</td>\n",
       "      <td>NaN</td>\n",
       "      <td>Paris</td>\n",
       "      <td>NaN</td>\n",
       "      <td>PARIS</td>\n",
       "      <td>PARIS</td>\n",
       "      <td>11</td>\n",
       "      <td>ILE-DE-FRANCE</td>\n",
       "      <td>75</td>\n",
       "      <td>Paris</td>\n",
       "      <td>48.856918</td>\n",
       "      <td>2.34121</td>\n",
       "      <td>P620</td>\n",
       "      <td>PRS</td>\n",
       "      <td>POINT (2.34121 48.856918)</td>\n",
       "    </tr>\n",
       "    <tr>\n",
       "      <th>37008</th>\n",
       "      <td>13540</td>\n",
       "      <td>13921</td>\n",
       "      <td>NaN</td>\n",
       "      <td>PUYRICARD</td>\n",
       "      <td>NaN</td>\n",
       "      <td>PUYRICARD</td>\n",
       "      <td>PUYRICARD</td>\n",
       "      <td>93</td>\n",
       "      <td>PROVENCE-ALPES-COTE D'AZUR</td>\n",
       "      <td>13</td>\n",
       "      <td>Bouches-du-Rhône</td>\n",
       "      <td>43.582729</td>\n",
       "      <td>5.42192</td>\n",
       "      <td>P626</td>\n",
       "      <td>PRKRT</td>\n",
       "      <td>POINT (5.42192 43.582729)</td>\n",
       "    </tr>\n",
       "    <tr>\n",
       "      <th>37009</th>\n",
       "      <td>59160</td>\n",
       "      <td>59355</td>\n",
       "      <td>NaN</td>\n",
       "      <td>LOMME</td>\n",
       "      <td>NaN</td>\n",
       "      <td>LOMME</td>\n",
       "      <td>LOMME</td>\n",
       "      <td>31</td>\n",
       "      <td>NORD-PAS-DE-CALAIS</td>\n",
       "      <td>59</td>\n",
       "      <td>Nord</td>\n",
       "      <td>50.643559</td>\n",
       "      <td>2.98782</td>\n",
       "      <td>L500</td>\n",
       "      <td>LM</td>\n",
       "      <td>POINT (2.98782 50.643559)</td>\n",
       "    </tr>\n",
       "  </tbody>\n",
       "</table>\n",
       "</div>"
      ],
      "text/plain": [
       "       code postal  insee article      ville ARTICLE      VILLE    libelle  \\\n",
       "37007        75000  75056     NaN      Paris     NaN      PARIS      PARIS   \n",
       "37008        13540  13921     NaN  PUYRICARD     NaN  PUYRICARD  PUYRICARD   \n",
       "37009        59160  59355     NaN      LOMME     NaN      LOMME      LOMME   \n",
       "\n",
       "       region                  nom region dep           nom dep  longitude  \\\n",
       "37007      11               ILE-DE-FRANCE  75             Paris  48.856918   \n",
       "37008      93  PROVENCE-ALPES-COTE D'AZUR  13  Bouches-du-Rhône  43.582729   \n",
       "37009      31          NORD-PAS-DE-CALAIS  59              Nord  50.643559   \n",
       "\n",
       "       latitude codex metaphone                   geometry  \n",
       "37007   2.34121  P620       PRS  POINT (2.34121 48.856918)  \n",
       "37008   5.42192  P626     PRKRT  POINT (5.42192 43.582729)  \n",
       "37009   2.98782  L500        LM  POINT (2.98782 50.643559)  "
      ]
     },
     "execution_count": 66,
     "metadata": {},
     "output_type": "execute_result"
    }
   ],
   "source": [
    "### create point geometries\n",
    "\n",
    "geometry     = [ Point(xy) for xy in zip(df_villes_web.latitude, df_villes_web.longitude) ]\n",
    "\n",
    "gdf_villes = gp.GeoDataFrame(df_villes_web, crs=crs_WSG84, geometry=geometry)\n",
    "\n",
    "gdf_villes.tail(3)"
   ]
  },
  {
   "cell_type": "code",
   "execution_count": 67,
   "metadata": {
    "collapsed": false
   },
   "outputs": [],
   "source": [
    "#import fiona\n",
    "#fiona.crs.from_epsg(4326)"
   ]
  },
  {
   "cell_type": "code",
   "execution_count": 68,
   "metadata": {
    "collapsed": false
   },
   "outputs": [
    {
     "name": "stdout",
     "output_type": "stream",
     "text": [
      "{'init': 'epsg:4326', 'no_defs': True}\n"
     ]
    }
   ],
   "source": [
    "### set projection CRS WSG84 \n",
    "\n",
    "gdf_villes.crs = {\n",
    "                    'init' : 'epsg:%s' %(crs_WSG84),\n",
    "                    'no_defs': True\n",
    "                   }\n",
    "\n",
    "print gdf_villes.crs\n"
   ]
  },
  {
   "cell_type": "code",
   "execution_count": 85,
   "metadata": {
    "collapsed": false
   },
   "outputs": [
    {
     "name": "stdout",
     "output_type": "stream",
     "text": [
      "-- gdf_villes_json.shape :  (37010, 16)\n"
     ]
    }
   ],
   "source": [
    "# work on copy\n",
    "gdf_villes_json = gdf_villes.copy()\n",
    "\n",
    "### set indexes :\n",
    "\n",
    "gdf_villes_json.set_index([\n",
    "                        #\"code postal\", \n",
    "                        \"insee\", \n",
    "                       ], inplace=True, drop=False) \n",
    "#gdf_stations.set_index(\"CD_STATION\", inplace=True) \n",
    "gdf_villes_json.sort_index(inplace=True) \n",
    "\n",
    "print \"-- gdf_villes_json.shape : \", gdf_villes_json.shape"
   ]
  },
  {
   "cell_type": "code",
   "execution_count": 86,
   "metadata": {
    "collapsed": false
   },
   "outputs": [
    {
     "data": {
      "text/html": [
       "<div>\n",
       "<table border=\"1\" class=\"dataframe\">\n",
       "  <thead>\n",
       "    <tr style=\"text-align: right;\">\n",
       "      <th></th>\n",
       "      <th>code postal</th>\n",
       "      <th>insee</th>\n",
       "      <th>article</th>\n",
       "      <th>ville</th>\n",
       "      <th>ARTICLE</th>\n",
       "      <th>VILLE</th>\n",
       "      <th>libelle</th>\n",
       "      <th>region</th>\n",
       "      <th>nom region</th>\n",
       "      <th>dep</th>\n",
       "      <th>nom dep</th>\n",
       "      <th>longitude</th>\n",
       "      <th>latitude</th>\n",
       "      <th>codex</th>\n",
       "      <th>metaphone</th>\n",
       "      <th>geometry</th>\n",
       "    </tr>\n",
       "    <tr>\n",
       "      <th>insee</th>\n",
       "      <th></th>\n",
       "      <th></th>\n",
       "      <th></th>\n",
       "      <th></th>\n",
       "      <th></th>\n",
       "      <th></th>\n",
       "      <th></th>\n",
       "      <th></th>\n",
       "      <th></th>\n",
       "      <th></th>\n",
       "      <th></th>\n",
       "      <th></th>\n",
       "      <th></th>\n",
       "      <th></th>\n",
       "      <th></th>\n",
       "      <th></th>\n",
       "    </tr>\n",
       "  </thead>\n",
       "  <tbody>\n",
       "    <tr>\n",
       "      <th>01001</th>\n",
       "      <td>1400</td>\n",
       "      <td>01001</td>\n",
       "      <td>L'</td>\n",
       "      <td>Abergement-Clémenciat</td>\n",
       "      <td>L'</td>\n",
       "      <td>ABERGEMENT-CLEMENCIAT</td>\n",
       "      <td>L ABERGEMENT CLEMENCIAT</td>\n",
       "      <td>82</td>\n",
       "      <td>RHONE-ALPES</td>\n",
       "      <td>01</td>\n",
       "      <td>Ain</td>\n",
       "      <td>46.151468</td>\n",
       "      <td>4.920059</td>\n",
       "      <td>A162</td>\n",
       "      <td>APRJMNTKLMNSTL</td>\n",
       "      <td>POINT (4.920058999999999 46.151468)</td>\n",
       "    </tr>\n",
       "    <tr>\n",
       "      <th>01002</th>\n",
       "      <td>1640</td>\n",
       "      <td>01002</td>\n",
       "      <td>L'</td>\n",
       "      <td>Abergement-de-Varey</td>\n",
       "      <td>L'</td>\n",
       "      <td>ABERGEMENT-DE-VAREY</td>\n",
       "      <td>L ABERGEMENT DE VAREY</td>\n",
       "      <td>82</td>\n",
       "      <td>RHONE-ALPES</td>\n",
       "      <td>01</td>\n",
       "      <td>Ain</td>\n",
       "      <td>46.005930</td>\n",
       "      <td>5.425281</td>\n",
       "      <td>A162</td>\n",
       "      <td>APRJMNTTFRL</td>\n",
       "      <td>POINT (5.425281 46.00593)</td>\n",
       "    </tr>\n",
       "    <tr>\n",
       "      <th>01004</th>\n",
       "      <td>1500</td>\n",
       "      <td>01004</td>\n",
       "      <td>NaN</td>\n",
       "      <td>Ambérieu-en-Bugey</td>\n",
       "      <td>NaN</td>\n",
       "      <td>AMBERIEU-EN-BUGEY</td>\n",
       "      <td>AMBERIEU EN BUGEY</td>\n",
       "      <td>82</td>\n",
       "      <td>RHONE-ALPES</td>\n",
       "      <td>01</td>\n",
       "      <td>Ain</td>\n",
       "      <td>45.979851</td>\n",
       "      <td>5.336890</td>\n",
       "      <td>A516</td>\n",
       "      <td>AMPRNPJ</td>\n",
       "      <td>POINT (5.33689 45.979851)</td>\n",
       "    </tr>\n",
       "    <tr>\n",
       "      <th>01005</th>\n",
       "      <td>1330</td>\n",
       "      <td>01005</td>\n",
       "      <td>NaN</td>\n",
       "      <td>Ambérieux-en-Dombes</td>\n",
       "      <td>NaN</td>\n",
       "      <td>AMBERIEUX-EN-DOMBES</td>\n",
       "      <td>AMBERIEUX EN DOMBES</td>\n",
       "      <td>82</td>\n",
       "      <td>RHONE-ALPES</td>\n",
       "      <td>01</td>\n",
       "      <td>Ain</td>\n",
       "      <td>45.998057</td>\n",
       "      <td>4.902498</td>\n",
       "      <td>A516</td>\n",
       "      <td>AMPRKSNTMPS</td>\n",
       "      <td>POINT (4.902498 45.998057)</td>\n",
       "    </tr>\n",
       "    <tr>\n",
       "      <th>01006</th>\n",
       "      <td>1300</td>\n",
       "      <td>01006</td>\n",
       "      <td>NaN</td>\n",
       "      <td>Ambléon</td>\n",
       "      <td>NaN</td>\n",
       "      <td>AMBLEON</td>\n",
       "      <td>AMBLEON</td>\n",
       "      <td>82</td>\n",
       "      <td>RHONE-ALPES</td>\n",
       "      <td>01</td>\n",
       "      <td>Ain</td>\n",
       "      <td>45.749870</td>\n",
       "      <td>5.601326</td>\n",
       "      <td>A514</td>\n",
       "      <td>AMPLN</td>\n",
       "      <td>POINT (5.601326 45.74987)</td>\n",
       "    </tr>\n",
       "    <tr>\n",
       "      <th>01007</th>\n",
       "      <td>1500</td>\n",
       "      <td>01007</td>\n",
       "      <td>NaN</td>\n",
       "      <td>Ambronay</td>\n",
       "      <td>NaN</td>\n",
       "      <td>AMBRONAY</td>\n",
       "      <td>AMBRONAY</td>\n",
       "      <td>82</td>\n",
       "      <td>RHONE-ALPES</td>\n",
       "      <td>01</td>\n",
       "      <td>Ain</td>\n",
       "      <td>46.006480</td>\n",
       "      <td>5.359990</td>\n",
       "      <td>A516</td>\n",
       "      <td>AMPRN</td>\n",
       "      <td>POINT (5.35999 46.00648)</td>\n",
       "    </tr>\n",
       "    <tr>\n",
       "      <th>01008</th>\n",
       "      <td>1500</td>\n",
       "      <td>01008</td>\n",
       "      <td>NaN</td>\n",
       "      <td>Ambutrix</td>\n",
       "      <td>NaN</td>\n",
       "      <td>AMBUTRIX</td>\n",
       "      <td>AMBUTRIX</td>\n",
       "      <td>82</td>\n",
       "      <td>RHONE-ALPES</td>\n",
       "      <td>01</td>\n",
       "      <td>Ain</td>\n",
       "      <td>45.939594</td>\n",
       "      <td>5.338195</td>\n",
       "      <td>A513</td>\n",
       "      <td>AMPTRKS</td>\n",
       "      <td>POINT (5.338195 45.939594)</td>\n",
       "    </tr>\n",
       "  </tbody>\n",
       "</table>\n",
       "</div>"
      ],
      "text/plain": [
       "       code postal  insee article                  ville ARTICLE  \\\n",
       "insee                                                              \n",
       "01001         1400  01001      L'  Abergement-Clémenciat      L'   \n",
       "01002         1640  01002      L'    Abergement-de-Varey      L'   \n",
       "01004         1500  01004     NaN      Ambérieu-en-Bugey     NaN   \n",
       "01005         1330  01005     NaN    Ambérieux-en-Dombes     NaN   \n",
       "01006         1300  01006     NaN                Ambléon     NaN   \n",
       "01007         1500  01007     NaN               Ambronay     NaN   \n",
       "01008         1500  01008     NaN               Ambutrix     NaN   \n",
       "\n",
       "                       VILLE                  libelle  region   nom region  \\\n",
       "insee                                                                        \n",
       "01001  ABERGEMENT-CLEMENCIAT  L ABERGEMENT CLEMENCIAT      82  RHONE-ALPES   \n",
       "01002    ABERGEMENT-DE-VAREY    L ABERGEMENT DE VAREY      82  RHONE-ALPES   \n",
       "01004      AMBERIEU-EN-BUGEY        AMBERIEU EN BUGEY      82  RHONE-ALPES   \n",
       "01005    AMBERIEUX-EN-DOMBES      AMBERIEUX EN DOMBES      82  RHONE-ALPES   \n",
       "01006                AMBLEON                  AMBLEON      82  RHONE-ALPES   \n",
       "01007               AMBRONAY                 AMBRONAY      82  RHONE-ALPES   \n",
       "01008               AMBUTRIX                 AMBUTRIX      82  RHONE-ALPES   \n",
       "\n",
       "      dep nom dep  longitude  latitude codex       metaphone  \\\n",
       "insee                                                          \n",
       "01001  01     Ain  46.151468  4.920059  A162  APRJMNTKLMNSTL   \n",
       "01002  01     Ain  46.005930  5.425281  A162     APRJMNTTFRL   \n",
       "01004  01     Ain  45.979851  5.336890  A516         AMPRNPJ   \n",
       "01005  01     Ain  45.998057  4.902498  A516     AMPRKSNTMPS   \n",
       "01006  01     Ain  45.749870  5.601326  A514           AMPLN   \n",
       "01007  01     Ain  46.006480  5.359990  A516           AMPRN   \n",
       "01008  01     Ain  45.939594  5.338195  A513         AMPTRKS   \n",
       "\n",
       "                                  geometry  \n",
       "insee                                       \n",
       "01001  POINT (4.920058999999999 46.151468)  \n",
       "01002            POINT (5.425281 46.00593)  \n",
       "01004            POINT (5.33689 45.979851)  \n",
       "01005           POINT (4.902498 45.998057)  \n",
       "01006            POINT (5.601326 45.74987)  \n",
       "01007             POINT (5.35999 46.00648)  \n",
       "01008           POINT (5.338195 45.939594)  "
      ]
     },
     "execution_count": 86,
     "metadata": {},
     "output_type": "execute_result"
    }
   ],
   "source": [
    "gdf_villes_json.head(7)"
   ]
  },
  {
   "cell_type": "code",
   "execution_count": 87,
   "metadata": {
    "collapsed": false
   },
   "outputs": [
    {
     "name": "stdout",
     "output_type": "stream",
     "text": [
      "[u'code postal', u'insee', u'article', u'ville', u'ARTICLE', u'VILLE', u'libelle', u'region', u'nom region', u'dep', u'nom dep', u'longitude', u'latitude', u'codex', u'metaphone', 'geometry']\n"
     ]
    }
   ],
   "source": [
    "print list(gdf_villes_json.columns)"
   ]
  },
  {
   "cell_type": "code",
   "execution_count": 88,
   "metadata": {
    "collapsed": false
   },
   "outputs": [],
   "source": [
    "### drop useless columns for geographic purposes\n",
    "\n",
    "cols_to_drop = [\n",
    "    u'article', \n",
    "    u'ARTICLE', \n",
    "    u'metaphone', \n",
    "    u'codex', \n",
    "    u'libelle', \n",
    "    u'ville', \n",
    "    u'longitude', \n",
    "    u'latitude', \n",
    "    u\"region\",\n",
    "    u'nom dep',\n",
    "    u'nom region',\n",
    "    u'code postal',\n",
    "    u'dep'\n",
    "    ]\n",
    "gdf_villes_json.drop(cols_to_drop, axis=1, inplace=True)\n"
   ]
  },
  {
   "cell_type": "code",
   "execution_count": 89,
   "metadata": {
    "collapsed": true
   },
   "outputs": [],
   "source": [
    "gdf_villes_json = gdf_villes_json.dropna( axis=0, how=\"all\") # on empty rows\n"
   ]
  },
  {
   "cell_type": "code",
   "execution_count": 90,
   "metadata": {
    "collapsed": false
   },
   "outputs": [
    {
     "data": {
      "text/plain": [
       "(37010, 3)"
      ]
     },
     "execution_count": 90,
     "metadata": {},
     "output_type": "execute_result"
    }
   ],
   "source": [
    "gdf_villes_json.shape"
   ]
  },
  {
   "cell_type": "code",
   "execution_count": 91,
   "metadata": {
    "collapsed": false,
    "scrolled": true
   },
   "outputs": [
    {
     "data": {
      "text/html": [
       "<div>\n",
       "<table border=\"1\" class=\"dataframe\">\n",
       "  <thead>\n",
       "    <tr style=\"text-align: right;\">\n",
       "      <th></th>\n",
       "      <th>insee</th>\n",
       "      <th>VILLE</th>\n",
       "      <th>geometry</th>\n",
       "    </tr>\n",
       "    <tr>\n",
       "      <th>insee</th>\n",
       "      <th></th>\n",
       "      <th></th>\n",
       "      <th></th>\n",
       "    </tr>\n",
       "  </thead>\n",
       "  <tbody>\n",
       "    <tr>\n",
       "      <th>01001</th>\n",
       "      <td>01001</td>\n",
       "      <td>ABERGEMENT-CLEMENCIAT</td>\n",
       "      <td>POINT (4.920058999999999 46.151468)</td>\n",
       "    </tr>\n",
       "    <tr>\n",
       "      <th>01002</th>\n",
       "      <td>01002</td>\n",
       "      <td>ABERGEMENT-DE-VAREY</td>\n",
       "      <td>POINT (5.425281 46.00593)</td>\n",
       "    </tr>\n",
       "    <tr>\n",
       "      <th>01004</th>\n",
       "      <td>01004</td>\n",
       "      <td>AMBERIEU-EN-BUGEY</td>\n",
       "      <td>POINT (5.33689 45.979851)</td>\n",
       "    </tr>\n",
       "    <tr>\n",
       "      <th>01005</th>\n",
       "      <td>01005</td>\n",
       "      <td>AMBERIEUX-EN-DOMBES</td>\n",
       "      <td>POINT (4.902498 45.998057)</td>\n",
       "    </tr>\n",
       "    <tr>\n",
       "      <th>01006</th>\n",
       "      <td>01006</td>\n",
       "      <td>AMBLEON</td>\n",
       "      <td>POINT (5.601326 45.74987)</td>\n",
       "    </tr>\n",
       "  </tbody>\n",
       "</table>\n",
       "</div>"
      ],
      "text/plain": [
       "       insee                  VILLE                             geometry\n",
       "insee                                                                   \n",
       "01001  01001  ABERGEMENT-CLEMENCIAT  POINT (4.920058999999999 46.151468)\n",
       "01002  01002    ABERGEMENT-DE-VAREY            POINT (5.425281 46.00593)\n",
       "01004  01004      AMBERIEU-EN-BUGEY            POINT (5.33689 45.979851)\n",
       "01005  01005    AMBERIEUX-EN-DOMBES           POINT (4.902498 45.998057)\n",
       "01006  01006                AMBLEON            POINT (5.601326 45.74987)"
      ]
     },
     "execution_count": 91,
     "metadata": {},
     "output_type": "execute_result"
    }
   ],
   "source": [
    "gdf_villes_json.head()"
   ]
  },
  {
   "cell_type": "code",
   "execution_count": 92,
   "metadata": {
    "collapsed": false
   },
   "outputs": [],
   "source": [
    "### save geojson for villes\n",
    "\n",
    "\n",
    "### filepath for villes_web_carto.geojson\n",
    "out_filename = \"villes_web_carto.geojson\"\n",
    "out_filepath = os.path.join(carto_web_path, out_filename )\n",
    "\n",
    "\n",
    "### overule Fiona overwrite bug\n",
    "try: \n",
    "    os.remove(out_filepath)\n",
    "except OSError:\n",
    "    pass\n",
    "\n",
    "\n",
    "#fiona.supported_drivers\n",
    "gdf_villes_json.to_file( out_filepath, driver=\"GeoJSON\" )\n",
    "\n"
   ]
  },
  {
   "cell_type": "code",
   "execution_count": null,
   "metadata": {
    "collapsed": true
   },
   "outputs": [],
   "source": []
  },
  {
   "cell_type": "code",
   "execution_count": null,
   "metadata": {
    "collapsed": true
   },
   "outputs": [],
   "source": []
  }
 ],
 "metadata": {
  "anaconda-cloud": {},
  "kernelspec": {
   "display_name": "Python [conda root]",
   "language": "python",
   "name": "conda-root-py"
  },
  "language_info": {
   "codemirror_mode": {
    "name": "ipython",
    "version": 2
   },
   "file_extension": ".py",
   "mimetype": "text/x-python",
   "name": "python",
   "nbconvert_exporter": "python",
   "pygments_lexer": "ipython2",
   "version": "2.7.12"
  }
 },
 "nbformat": 4,
 "nbformat_minor": 1
}
