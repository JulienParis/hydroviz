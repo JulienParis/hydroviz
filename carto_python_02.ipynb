{
 "cells": [
  {
   "cell_type": "code",
   "execution_count": 1,
   "metadata": {
    "collapsed": false
   },
   "outputs": [],
   "source": [
    "### basic libraries\n",
    "import os\n",
    "import itertools\n",
    "from datetime import datetime\n",
    "from json import dumps\n",
    "import pandas as pd \n",
    "import numpy as np\n",
    "\n",
    "### carto libraries\n",
    "import shapefile ### not necessary ?\n",
    "import geopandas as gp\n",
    "#from shapely.geometry import Polygon\n",
    "from shapely.geometry import shape\n",
    "\n",
    "### for plotting in Jupyter\n",
    "%matplotlib inline\n",
    "import matplotlib.pyplot as plt\n",
    "#import seaborn as sns\n",
    "plt.rcParams[\"figure.figsize\"] = (10.0, 10.0)\n",
    "#plt.style.use(\"bmh\")\n",
    "plt.style.use(\"ggplot\")\n",
    "\n",
    "from app.scripts.topojson import topojson\n",
    "\n",
    "from pyproj import Proj, transform ### not necessary ?\n",
    "\n",
    "crs_lambert93 = 2154\n",
    "crs_WSG84     = 4326\n",
    "inCRS  = 'epsg:%s' %(crs_lambert93)\n",
    "outCRS = 'epsg:%s' %(crs_WSG84)\n",
    "inProj  = Proj(init=inCRS)  # proj in  : Lambert 93\n",
    "outProj = Proj(init=outCRS) # proj out : WSG 84\n",
    "\n",
    "### TO DO : find topojson libraries to reduce output file size\n"
   ]
  },
  {
   "cell_type": "code",
   "execution_count": 2,
   "metadata": {
    "collapsed": false
   },
   "outputs": [
    {
     "name": "stdout",
     "output_type": "stream",
     "text": [
      "[u'seaborn-darkgrid', u'seaborn-notebook', u'classic', u'seaborn-ticks', u'grayscale', u'bmh', u'seaborn-talk', u'dark_background', u'ggplot', u'fivethirtyeight', u'seaborn-colorblind', u'seaborn-deep', u'seaborn-whitegrid', u'seaborn-bright', u'seaborn-poster', u'seaborn-muted', u'seaborn-paper', u'seaborn-white', u'seaborn-pastel', u'seaborn-dark', u'seaborn-dark-palette']\n"
     ]
    }
   ],
   "source": [
    "print (plt.style.available)"
   ]
  },
  {
   "cell_type": "code",
   "execution_count": 3,
   "metadata": {
    "collapsed": false
   },
   "outputs": [
    {
     "name": "stdout",
     "output_type": "stream",
     "text": [
      "-- cwd : /Users/jpy/Dropbox/_FLASK/concours_pesticides\n",
      "-- carto path     :  /Users/jpy/Dropbox/_FLASK/concours_pesticides/app/static/data/carto\n",
      "-- carto_web path :  /Users/jpy/Dropbox/_FLASK/concours_pesticides/app/static/data/carto_web\n"
     ]
    }
   ],
   "source": [
    "### basic folders addresses and names\n",
    "cwd = os.getcwd()\n",
    "\n",
    "data_folder      = \"app/static/data\"\n",
    "carto_folder     = \"carto\"\n",
    "_web             = \"_web\"\n",
    "carto_web_folder = carto_folder + _web\n",
    "\n",
    "carto_path     = os.path.join(cwd, data_folder, carto_folder)\n",
    "carto_web_path = os.path.join(cwd, data_folder, carto_web_folder)\n",
    "\n",
    "print \"-- cwd :\"            , cwd\n",
    "print \"-- carto path     : \", carto_path\n",
    "print \"-- carto_web path : \", carto_web_path\n"
   ]
  },
  {
   "cell_type": "code",
   "execution_count": 4,
   "metadata": {
    "collapsed": true
   },
   "outputs": [],
   "source": [
    "### basic pandas tools\n",
    "\n",
    "idx = pd.IndexSlice\n",
    "\n",
    "def checkDTypes (df) :\n",
    "    # check data type\n",
    "    \n",
    "    for index in df.index.names :\n",
    "        print \"---- index : \", index\n",
    "\n",
    "    for col in df.columns :\n",
    "        #label = col.values\n",
    "        dtype = df[col].dtype\n",
    "        \n",
    "        print \"---- dtypes col : \", col, \"/\", dtype\n",
    "        "
   ]
  },
  {
   "cell_type": "code",
   "execution_count": 5,
   "metadata": {
    "collapsed": true
   },
   "outputs": [],
   "source": [
    "# cf : https://pypi.python.org/pypi/pyshp\n",
    "# cf : http://gis.stackexchange.com/questions/183795/how-do-i-select-shapefiles-to-be-converted-to-geojson-in-folder-with-multiple-sh\n",
    "# cf : https://github.com/mlaloux/Python-geo_interface-applications/blob/master/PyShp_geointerface.py\n",
    "\n",
    "# cf : https://glenbambrick.com/tag/pyshp/\n",
    "# cf : https://glenbambrick.com/2016/01/24/reproject-shapefile/"
   ]
  },
  {
   "cell_type": "code",
   "execution_count": 6,
   "metadata": {
    "collapsed": false
   },
   "outputs": [],
   "source": [
    "### reading/writing - converting shp files to geojson\n",
    "    \n",
    "def geofile_path(filename, extension):\n",
    "    path = os.path.join(carto_path , filename + extension )\n",
    "    print \"-- file path : \", path\n",
    "    return path\n"
   ]
  },
  {
   "cell_type": "code",
   "execution_count": 7,
   "metadata": {
    "collapsed": true
   },
   "outputs": [],
   "source": [
    "### SHP and GEOJSON files \n",
    "_shp     = \".shp\"\n",
    "_json    = \".json\"\n",
    "_geojson = \".geojson\"\n",
    "_copy    = \"_copy\"\n",
    "\n",
    "## .shp source for Masses d'eau\n",
    "water_shp_fname    = \"PolygMasseDEauSouterraine\"\n",
    "\n",
    "## add departements .geojson for other future datas than water (f.i. agriculture stats / src : Etalab)\n",
    "# https://github.com/gregoiredavid/france-geojson\n",
    "\n",
    "admin_regions      = \"regions\"\n",
    "admin_regions_2015 = \"regions_2015\"\n",
    "admin_departements = \"departements\"\n",
    "admin_communes     = \"communes\"\n"
   ]
  },
  {
   "cell_type": "code",
   "execution_count": 8,
   "metadata": {
    "collapsed": true
   },
   "outputs": [],
   "source": [
    "# return X,Y from centroid point\n",
    "\n",
    "def getXY (centroidPoint):\n",
    "    #print centroidPoint\n",
    "    px = centroidPoint.x\n",
    "    py = centroidPoint.y\n",
    "    return (px, py)\n"
   ]
  },
  {
   "cell_type": "code",
   "execution_count": 9,
   "metadata": {
    "collapsed": true
   },
   "outputs": [],
   "source": [
    "### options for gdf.read_file()\n",
    "#import fiona; help(fiona.open)\n",
    "\n",
    "### options for gdf.to_file()\n",
    "#import fiona; fiona.supported_drivers"
   ]
  },
  {
   "cell_type": "code",
   "execution_count": 10,
   "metadata": {
    "collapsed": false
   },
   "outputs": [
    {
     "name": "stdout",
     "output_type": "stream",
     "text": [
      "-- file path :  /Users/jpy/Dropbox/_FLASK/concours_pesticides/app/static/data/carto/departements.geojson\n",
      "-- file path :  /Users/jpy/Dropbox/_FLASK/concours_pesticides/app/static/data/carto/regions.geojson\n",
      "-- file path :  /Users/jpy/Dropbox/_FLASK/concours_pesticides/app/static/data/carto/regions_2015.geojson\n",
      "{'init': u'epsg:4326'}\n",
      "{'init': 'epsg:2154', 'no_defs': True}\n"
     ]
    }
   ],
   "source": [
    "### read departements / regions geojson with geopandas\n",
    "\n",
    "#gdf_dpts = gp.GeoDataFrame.from_file( geofile_path( admin_departements, _geojson ) )\n",
    "gdf_dpts         = gp.read_file( geofile_path( admin_departements, _geojson ) )\n",
    "gdf_regions      = gp.read_file( geofile_path( admin_regions, _geojson ) )\n",
    "gdf_regions_2015 = gp.read_file( geofile_path( admin_regions_2015, _geojson ) )\n",
    "\n",
    "print gdf_dpts.crs\n",
    "\n",
    "# change projection crs (greedy)\n",
    "# http://geopandas.org/projections.html\n",
    "\n",
    "#gdf_dpts = gdf_dpts.to_crs(epsg=crs_WSG84)\n",
    "#gdf_dpts = gdf_dpts.to_crs({'init': 'epsg:%s' %(crs_lambert93)} )\n",
    "gdf_dpts         = gdf_dpts.to_crs(        epsg=crs_lambert93)\n",
    "gdf_regions      = gdf_regions.to_crs(     epsg=crs_lambert93)\n",
    "gdf_regions_2015 = gdf_regions_2015.to_crs(epsg=crs_lambert93)\n",
    "\n",
    "print gdf_dpts.crs\n"
   ]
  },
  {
   "cell_type": "code",
   "execution_count": 11,
   "metadata": {
    "collapsed": true
   },
   "outputs": [],
   "source": [
    "for gdf in [gdf_dpts, gdf_regions, gdf_regions_2015 ] :\n",
    "    gdf[\"area\"]     = gdf[\"geometry\"].area\n",
    "    gdf[\"centroid\"] = gdf[\"geometry\"].centroid\n"
   ]
  },
  {
   "cell_type": "code",
   "execution_count": 12,
   "metadata": {
    "collapsed": false
   },
   "outputs": [
    {
     "data": {
      "text/html": [
       "<div>\n",
       "<table border=\"1\" class=\"dataframe\">\n",
       "  <thead>\n",
       "    <tr style=\"text-align: right;\">\n",
       "      <th></th>\n",
       "      <th>code</th>\n",
       "      <th>geometry</th>\n",
       "      <th>nom</th>\n",
       "      <th>area</th>\n",
       "      <th>centroid</th>\n",
       "    </tr>\n",
       "  </thead>\n",
       "  <tbody>\n",
       "    <tr>\n",
       "      <th>0</th>\n",
       "      <td>01</td>\n",
       "      <td>POLYGON ((919194.9670950606 6541469.955321653,...</td>\n",
       "      <td>Ain</td>\n",
       "      <td>5.773974e+09</td>\n",
       "      <td>POINT (881425.4003322608 6558215.497951342)</td>\n",
       "    </tr>\n",
       "  </tbody>\n",
       "</table>\n",
       "</div>"
      ],
      "text/plain": [
       "  code                                           geometry  nom          area  \\\n",
       "0   01  POLYGON ((919194.9670950606 6541469.955321653,...  Ain  5.773974e+09   \n",
       "\n",
       "                                      centroid  \n",
       "0  POINT (881425.4003322608 6558215.497951342)  "
      ]
     },
     "execution_count": 12,
     "metadata": {},
     "output_type": "execute_result"
    }
   ],
   "source": [
    "gdf_dpts.head(1)"
   ]
  },
  {
   "cell_type": "code",
   "execution_count": 13,
   "metadata": {
    "collapsed": false
   },
   "outputs": [],
   "source": [
    "'''\n",
    "Colormap White is not recognized. Possible values are: \n",
    "Accent, Accent_r, Blues, Blues_r, BrBG, BrBG_r, BuGn, BuGn_r, BuPu, BuPu_r, CMRmap, \n",
    "CMRmap_r, Dark2, Dark2_r, GnBu, GnBu_r, Greens, Greens_r, Greys, Greys_r, OrRd, OrRd_r, \n",
    "Oranges, Oranges_r, PRGn, PRGn_r, Paired, Paired_r, Pastel1, Pastel1_r, Pastel2, Pastel2_r, \n",
    "PiYG, PiYG_r, PuBu, PuBuGn, PuBuGn_r, PuBu_r, PuOr, PuOr_r, PuRd, PuRd_r, Purples, Purples_r, \n",
    "RdBu, RdBu_r, RdGy, RdGy_r, RdPu, RdPu_r, RdYlBu, RdYlBu_r, RdYlGn, RdYlGn_r, Reds, Reds_r, \n",
    "Set1, Set1_r, Set2, Set2_r, Set3, Set3_r, Spectral, Spectral_r, Wistia, Wistia_r, YlGn, YlGnBu, \n",
    "YlGnBu_r, YlGn_r, YlOrBr, YlOrBr_r, YlOrRd, YlOrRd_r, afmhot, afmhot_r, autumn, autumn_r, binary, \n",
    "binary_r, bone, bone_r, brg, brg_r, bwr, bwr_r, cool, cool_r, coolwarm, coolwarm_r, copper, \n",
    "copper_r, cubehelix, cubehelix_r, flag, flag_r, gist_earth, gist_earth_r, gist_gray, gist_gray_r, \n",
    "gist_heat, gist_heat_r, gist_ncar, gist_ncar_r, gist_rainbow, gist_rainbow_r, gist_stern, \n",
    "gist_stern_r, gist_yarg, gist_yarg_r, gnuplot, gnuplot2, gnuplot2_r, gnuplot_r, gray, gray_r, \n",
    "hot, hot_r, hsv, hsv_r, inferno, inferno_r, jet, jet_r, magma, magma_r, nipy_spectral, \n",
    "nipy_spectral_r, ocean, ocean_r, pink, pink_r, plasma, plasma_r, prism, prism_r, rainbow, \n",
    "rainbow_r, seismic, seismic_r, spectral, spectral_r, spring, spring_r, summer, summer_r, \n",
    "terrain, terrain_r, viridis, viridis_r, winter, winter_r\n",
    "'''\n",
    "\n",
    "cmaps = [('Perceptually Uniform Sequential',\n",
    "                            ['viridis', 'inferno', 'plasma', 'magma']),\n",
    "         ('Sequential',     ['Blues', 'BuGn', 'BuPu',\n",
    "                             'GnBu', 'Greens', 'Greys', 'Oranges', 'OrRd',\n",
    "                             'PuBu', 'PuBuGn', 'PuRd', 'Purples', 'RdPu',\n",
    "                             'Reds', 'YlGn', 'YlGnBu', 'YlOrBr', 'YlOrRd']),\n",
    "         ('Sequential (2)', ['afmhot', 'autumn', 'bone', 'cool',\n",
    "                             'copper', 'gist_heat', 'gray', 'hot',\n",
    "                             'pink', 'spring', 'summer', 'winter']),\n",
    "         ('Diverging',      ['BrBG', 'bwr', 'coolwarm', 'PiYG', 'PRGn', 'PuOr',\n",
    "                             'RdBu', 'RdGy', 'RdYlBu', 'RdYlGn', 'Spectral',\n",
    "                             'seismic']),\n",
    "         ('Qualitative',    ['Accent', 'Dark2', 'Paired', 'Pastel1',\n",
    "                             'Pastel2', 'Set1', 'Set2', 'Set3']),\n",
    "         ('Miscellaneous',  ['gist_earth', 'terrain', 'ocean', 'gist_stern',\n",
    "                             'brg', 'CMRmap', 'cubehelix',\n",
    "                             'gnuplot', 'gnuplot2', 'gist_ncar',\n",
    "                             'nipy_spectral', 'jet', 'rainbow',\n",
    "                             'gist_rainbow', 'hsv', 'flag', 'prism'])]\n",
    "\n",
    "\n",
    "# cf : https://gist.github.com/jakevdp/91077b0cae40f8f8244a   \n",
    "def discrete_cmap(N, base_cmap=None):\n",
    "    \"\"\"Create an N-bin discrete colormap from the specified input map\"\"\"\n",
    "\n",
    "    # Note that if base_cmap is a string or None, you can simply do\n",
    "    #    return plt.cm.get_cmap(base_cmap, N)\n",
    "    # The following works for string, None, or a colormap instance:\n",
    "\n",
    "    base = plt.cm.get_cmap(base_cmap)\n",
    "    color_list = base(np.linspace(0, 1, N))\n",
    "    cmap_name = base.name + str(N)\n",
    "    return base.from_list(cmap_name, color_list, N)\n",
    "\n",
    "\n",
    "#plot_reg        = gdf_regions.plot(cmap=discrete_cmap(13, \"Dark2\"), alpha=1, edgecolor='White' )\n",
    "#plot_reg_2015   = gdf_regions_2015.plot(cmap=discrete_cmap(13, \"Dark2\"), alpha=1, edgecolor='White' )\n",
    "#plot_dpt        = gdf_dpts.plot(ax=plot_reg_2015, cmap=None, alpha=0, edgecolor='White', linewidth='0.1')\n"
   ]
  },
  {
   "cell_type": "code",
   "execution_count": 14,
   "metadata": {
    "collapsed": true
   },
   "outputs": [],
   "source": [
    "############################################\n",
    "###########################################\n",
    "### CARTO MASSES D'EAU \n",
    "###########################################\n",
    "###########################################\n"
   ]
  },
  {
   "cell_type": "code",
   "execution_count": 15,
   "metadata": {
    "collapsed": false
   },
   "outputs": [
    {
     "name": "stdout",
     "output_type": "stream",
     "text": [
      "\n"
     ]
    }
   ],
   "source": [
    "\"\"\"\n",
    "### cf : http://www.sandre.eaufrance.fr/urn.php?urn=urn:sandre:dictionnaire:MDO::entite:MasseDEau:ressource:latest:::html\n",
    "Le code de la masse d'eau est structuré de la manière suivante :\n",
    "Code du bassin (district au sens de la dce) + \n",
    "Code du type (\n",
    "    \"R\" pour rivière, \n",
    "    \"L\" pour plan d'eau, \n",
    "    \"T\" pour transition, \n",
    "    \"C\" pour cotière, \n",
    "    \"G\" pour masse d'eau souterraine) \n",
    "    + Incrément.\n",
    "    \n",
    "\n",
    "\"\"\"\n",
    "print "
   ]
  },
  {
   "cell_type": "code",
   "execution_count": 16,
   "metadata": {
    "collapsed": false
   },
   "outputs": [
    {
     "name": "stdout",
     "output_type": "stream",
     "text": [
      "-- start reading shp file / gdf_waters_raw --> 2016-12-31 01:18:15.007998 \n",
      "-- file path :  /Users/jpy/Dropbox/_FLASK/concours_pesticides/app/static/data/carto/PolygMasseDEauSouterraine.shp\n",
      "-- finish reading shp file / gdf_waters_raw --> 0:01:19.492883 \n"
     ]
    }
   ],
   "source": [
    "### read .shp waters with geopandas (greedy) <-- 0:01:22\n",
    "\n",
    "start_read_time = datetime.now()\n",
    "print \"-- start reading shp file / gdf_waters_raw --> %s \" %(start_read_time)\n",
    "\n",
    "shp_encoding = \"utf-8\"   ### doesn't work\n",
    "shp_encoding = \"latin-1\" ### not sure\n",
    "\n",
    "crs_source = crs_lambert93\n",
    "#crs_source = \"lcc\" ### not sure\n",
    "## {'proj': 'longlat', 'ellps': 'WGS84', 'datum': 'WGS84','no_defs': True}\n",
    "\n",
    "\n",
    "### read SHP file\n",
    "#gdf_waters_raw = gp.read_file( geofile_path( water_shp_fname, _shp ), crs=crs_source, encoding=shp_encoding )\n",
    "gdf_waters_raw = gp.GeoDataFrame.from_file( geofile_path( water_shp_fname, _shp ) )\n",
    "\n",
    "# set and sort index\n",
    "gdf_waters_raw.set_index([\"CdBassinDC\", \"CdMasseDEa\"], inplace=True)\n",
    "gdf_waters_raw.sortlevel(inplace=True) \n",
    "\n",
    "finish_read_delta_time = datetime.now() - start_read_time\n",
    "print \"-- finish reading shp file / gdf_waters_raw --> %s \" %(finish_read_delta_time)\n"
   ]
  },
  {
   "cell_type": "code",
   "execution_count": 17,
   "metadata": {
    "collapsed": false
   },
   "outputs": [
    {
     "data": {
      "text/plain": [
       "(1103, 24)"
      ]
     },
     "execution_count": 17,
     "metadata": {},
     "output_type": "execute_result"
    }
   ],
   "source": [
    "gdf_waters_raw.shape"
   ]
  },
  {
   "cell_type": "code",
   "execution_count": 18,
   "metadata": {
    "collapsed": true
   },
   "outputs": [],
   "source": [
    "#### WORK ON gdf_waters FROM NOW (COPY OF : gdf_waters_raw)\n",
    "\n",
    "gdf_waters = gdf_waters_raw.copy()\n"
   ]
  },
  {
   "cell_type": "code",
   "execution_count": 19,
   "metadata": {
    "collapsed": false
   },
   "outputs": [
    {
     "name": "stdout",
     "output_type": "stream",
     "text": [
      "{u'lon_0': 3, u'ellps': u'GRS80', u'y_0': 6600000, u'no_defs': True, u'proj': u'lcc', u'x_0': 700000, u'units': u'm', u'lat_2': 44, u'lat_1': 49, u'lat_0': 46.5}\n"
     ]
    }
   ],
   "source": [
    "# check crs\n",
    "print gdf_waters.crs\n"
   ]
  },
  {
   "cell_type": "code",
   "execution_count": 20,
   "metadata": {
    "collapsed": false
   },
   "outputs": [],
   "source": [
    "def colToDate(df, list_col_names):\n",
    "    # change to date format\n",
    "    \n",
    "    for col in list_col_names :\n",
    "        df.loc[:, col] = pd.to_datetime( df.loc[:, col], infer_datetime_format=True)\n",
    "    \n",
    "    return df\n",
    "\n",
    "# change date format\n",
    "gdf_waters = colToDate( gdf_waters, [\"DateCreati\", \"DateMajMas\"] )\n"
   ]
  },
  {
   "cell_type": "code",
   "execution_count": 21,
   "metadata": {
    "collapsed": true
   },
   "outputs": [],
   "source": [
    "gdf_waters[\"area\"]     = gdf_waters[\"geometry\"].area\n",
    "gdf_waters[\"centroid\"] = gdf_waters[\"geometry\"].centroid\n"
   ]
  },
  {
   "cell_type": "code",
   "execution_count": 22,
   "metadata": {
    "collapsed": true
   },
   "outputs": [],
   "source": [
    "gdf_waters['CdBassinDC'] = gdf_waters.index.get_level_values('CdBassinDC') \n",
    "gdf_waters['CdMasseDEa'] = gdf_waters.index.get_level_values('CdMasseDEa') \n"
   ]
  },
  {
   "cell_type": "code",
   "execution_count": 23,
   "metadata": {
    "collapsed": true
   },
   "outputs": [
    {
     "data": {
      "text/html": [
       "<div>\n",
       "<table border=\"1\" class=\"dataframe\">\n",
       "  <thead>\n",
       "    <tr style=\"text-align: right;\">\n",
       "      <th></th>\n",
       "      <th></th>\n",
       "      <th>CdEcoregio</th>\n",
       "      <th>CdEuMasseD</th>\n",
       "      <th>CdPolygMas</th>\n",
       "      <th>Commentair</th>\n",
       "      <th>DateCreati</th>\n",
       "      <th>DateMajMas</th>\n",
       "      <th>FrangeLitt</th>\n",
       "      <th>Karstique</th>\n",
       "      <th>LatMasseDE</th>\n",
       "      <th>LonMasseDE</th>\n",
       "      <th>...</th>\n",
       "      <th>SurfaceAff</th>\n",
       "      <th>SurfaceSsC</th>\n",
       "      <th>SurfaceTot</th>\n",
       "      <th>SystemeRef</th>\n",
       "      <th>TypeMasseD</th>\n",
       "      <th>geometry</th>\n",
       "      <th>area</th>\n",
       "      <th>centroid</th>\n",
       "      <th>CdBassinDC</th>\n",
       "      <th>CdMasseDEa</th>\n",
       "    </tr>\n",
       "    <tr>\n",
       "      <th>CdBassinDC</th>\n",
       "      <th>CdMasseDEa</th>\n",
       "      <th></th>\n",
       "      <th></th>\n",
       "      <th></th>\n",
       "      <th></th>\n",
       "      <th></th>\n",
       "      <th></th>\n",
       "      <th></th>\n",
       "      <th></th>\n",
       "      <th></th>\n",
       "      <th></th>\n",
       "      <th></th>\n",
       "      <th></th>\n",
       "      <th></th>\n",
       "      <th></th>\n",
       "      <th></th>\n",
       "      <th></th>\n",
       "      <th></th>\n",
       "      <th></th>\n",
       "      <th></th>\n",
       "      <th></th>\n",
       "      <th></th>\n",
       "    </tr>\n",
       "  </thead>\n",
       "  <tbody>\n",
       "    <tr>\n",
       "      <th>A</th>\n",
       "      <th>AG001</th>\n",
       "      <td>13</td>\n",
       "      <td>FRAG001</td>\n",
       "      <td>00000002</td>\n",
       "      <td>None</td>\n",
       "      <td>2004-12-31</td>\n",
       "      <td>2013-12-18</td>\n",
       "      <td>N</td>\n",
       "      <td>N</td>\n",
       "      <td>7.069081e+06</td>\n",
       "      <td>639573.042158</td>\n",
       "      <td>...</td>\n",
       "      <td>868.2</td>\n",
       "      <td>82.4</td>\n",
       "      <td>950.6</td>\n",
       "      <td>26</td>\n",
       "      <td>DS</td>\n",
       "      <td>POLYGON ((651859.6700888127 7067573.305585384,...</td>\n",
       "      <td>8.237526e+07</td>\n",
       "      <td>POINT (633559.5781241878 7082551.460281919)</td>\n",
       "      <td>A</td>\n",
       "      <td>AG001</td>\n",
       "    </tr>\n",
       "  </tbody>\n",
       "</table>\n",
       "<p>1 rows × 28 columns</p>\n",
       "</div>"
      ],
      "text/plain": [
       "                      CdEcoregio CdEuMasseD CdPolygMas Commentair DateCreati  \\\n",
       "CdBassinDC CdMasseDEa                                                          \n",
       "A          AG001              13    FRAG001   00000002       None 2004-12-31   \n",
       "\n",
       "                      DateMajMas FrangeLitt Karstique    LatMasseDE  \\\n",
       "CdBassinDC CdMasseDEa                                                 \n",
       "A          AG001      2013-12-18          N         N  7.069081e+06   \n",
       "\n",
       "                          LonMasseDE     ...     SurfaceAff SurfaceSsC  \\\n",
       "CdBassinDC CdMasseDEa                    ...                             \n",
       "A          AG001       639573.042158     ...          868.2       82.4   \n",
       "\n",
       "                      SurfaceTot  SystemeRef TypeMasseD  \\\n",
       "CdBassinDC CdMasseDEa                                     \n",
       "A          AG001           950.6          26         DS   \n",
       "\n",
       "                                                                geometry  \\\n",
       "CdBassinDC CdMasseDEa                                                      \n",
       "A          AG001       POLYGON ((651859.6700888127 7067573.305585384,...   \n",
       "\n",
       "                               area  \\\n",
       "CdBassinDC CdMasseDEa                 \n",
       "A          AG001       8.237526e+07   \n",
       "\n",
       "                                                          centroid  \\\n",
       "CdBassinDC CdMasseDEa                                                \n",
       "A          AG001       POINT (633559.5781241878 7082551.460281919)   \n",
       "\n",
       "                       CdBassinDC  CdMasseDEa  \n",
       "CdBassinDC CdMasseDEa                          \n",
       "A          AG001                A       AG001  \n",
       "\n",
       "[1 rows x 28 columns]"
      ]
     },
     "execution_count": 23,
     "metadata": {},
     "output_type": "execute_result"
    }
   ],
   "source": [
    "gdf_waters.head(1)\n"
   ]
  },
  {
   "cell_type": "code",
   "execution_count": 24,
   "metadata": {
    "collapsed": true
   },
   "outputs": [
    {
     "name": "stderr",
     "output_type": "stream",
     "text": [
      "Ring Self-intersection at or near point 803916.86371147633 6957802.5956156328\n",
      "Ring Self-intersection at or near point 826425.25400499254 6962164.8597894236\n",
      "Ring Self-intersection at or near point 918527.7121681273 6850067.7743136622\n",
      "Ring Self-intersection at or near point 1055789.7500000075 6316287.5\n",
      "Ring Self-intersection at or near point 908897.875 6751941.5000000186\n",
      "Ring Self-intersection at or near point 895876.25000002235 6739071.5000000261\n",
      "Ring Self-intersection at or near point 930191.12503334135 6578068.5000333339\n",
      "Ring Self-intersection at or near point 865806.93750000745 6680038.0001000091\n",
      "Ring Self-intersection at or near point 684911.37510001659 6155322.5001000017\n",
      "Ring Self-intersection at or near point 686086.62510000169 6157375.0001000054\n",
      "Ring Self-intersection at or near point 844683.18750000745 6443596.0001000091\n",
      "Ring Self-intersection at or near point 851261.12510002404 6482992.0001000054\n",
      "Ring Self-intersection at or near point 892951.2501000315 6468589.5001000129\n",
      "Ring Self-intersection at or near point 686086.62510000169 6157375.0001000054\n",
      "Ring Self-intersection at or near point 1057150.8750000149 6309727.5000000037\n",
      "Ring Self-intersection at or near point 961012.56250034273 6728743.0000000149\n",
      "Ring Self-intersection at or near point 892951.2501000315 6468589.5001000129\n",
      "Ring Self-intersection at or near point 865806.93750000745 6680038.0001000091\n",
      "Ring Self-intersection at or near point 851261.12510002404 6482992.0001000054\n",
      "Ring Self-intersection at or near point 680080.6875 6212646.0001000017\n",
      "Ring Self-intersection at or near point 844683.18750000745 6443596.0001000091\n",
      "Ring Self-intersection at or near point 375467.16047833115 6296434.7980653159\n",
      "Ring Self-intersection at or near point 396770.77831767499 6470888.6235968396\n",
      "Ring Self-intersection at or near point 415283.78351769596 6393297.15731024\n",
      "Ring Self-intersection at or near point 396770.77831767499 6470888.6235968396\n",
      "Ring Self-intersection at or near point 426124.21075575799 6477516.2852631882\n",
      "Ring Self-intersection at or near point 415283.78351769596 6393297.15731024\n",
      "Ring Self-intersection at or near point 396770.77831767499 6470888.6235968396\n",
      "Ring Self-intersection at or near point 388784.1932906732 6543947.355831176\n",
      "Ring Self-intersection at or near point 426124.21075575799 6477516.2852631882\n",
      "Ring Self-intersection at or near point 415283.78351769596 6393297.15731024\n",
      "Ring Self-intersection at or near point 396770.77831767499 6470888.6235968396\n",
      "Ring Self-intersection at or near point 388784.1932906732 6543947.355831176\n",
      "Ring Self-intersection at or near point 511841.1139690429 6567771.5704031922\n",
      "Ring Self-intersection at or near point 372733.17258439213 6298645.4151177704\n",
      "Ring Self-intersection at or near point 363801.33130767196 6296217.6449894495\n",
      "Ring Self-intersection at or near point 610703.23333543539 6231651.5120414644\n",
      "Ring Self-intersection at or near point 523862.71608182788 6236775.0539317355\n",
      "Ring Self-intersection at or near point 637847.51029230654 6296909.087487936\n",
      "Ring Self-intersection at or near point 363801.33130767196 6296217.6449894495\n",
      "Ring Self-intersection at or near point 523862.71608182788 6236775.0539317355\n",
      "Ring Self-intersection at or near point 363014.84126403928 6398062.0004626401\n",
      "Ring Self-intersection at or near point 363014.84126403928 6398062.0004626401\n",
      "Ring Self-intersection at or near point 363688.42747686803 6402012.9372570589\n",
      "Ring Self-intersection at or near point 363014.84126403928 6398062.0004626401\n",
      "Ring Self-intersection at or near point 363014.84126403928 6398062.0004626401\n",
      "Ring Self-intersection at or near point 455271.43060171604 6766705.6768203713\n",
      "Ring Self-intersection at or near point 451888.7111318931 6610118.6117990352\n",
      "Ring Self-intersection at or near point 783910.29982994497 6563381.1298086531\n",
      "Ring Self-intersection at or near point 776618.68671960384 6578584.046403423\n",
      "Ring Self-intersection at or near point 709364.59416558594 6613916.859438926\n",
      "Ring Self-intersection at or near point 755614.54149248451 6449606.886253275\n",
      "Ring Self-intersection at or near point 672031.7021137327 6578303.1585778855\n",
      "Ring Self-intersection at or near point 679946.01279103756 6598927.3065621331\n",
      "Ring Self-intersection at or near point 705255.11290286481 6647890.2170229219\n",
      "Ring Self-intersection at or near point 726034.44219905883 6638656.4412066564\n",
      "Ring Self-intersection at or near point 725682.44099438936 6639244.7069464847\n",
      "Ring Self-intersection at or near point 507381.69444976747 6577735.5379028618\n",
      "Ring Self-intersection at or near point 488007.96962209046 6585326.0690022893\n",
      "Ring Self-intersection at or near point 475802.43116365373 6646277.4239515811\n",
      "Ring Self-intersection at or near point 509870.99721831083 6636313.1835308783\n",
      "Ring Self-intersection at or near point 586111.44051987678 6683541.6934757791\n",
      "Ring Self-intersection at or near point 614804.44909994304 6752607.623711843\n",
      "Ring Self-intersection at or near point 626339.91171664 6678237.8466899544\n",
      "Ring Self-intersection at or near point 586111.44051988423 6683541.6934757791\n",
      "Ring Self-intersection at or near point 681038.33828843385 6722347.6238575019\n",
      "Ring Self-intersection at or near point 614804.44909994304 6752607.623711843\n",
      "Ring Self-intersection at or near point 455271.43060171604 6766705.6768203713\n",
      "Ring Self-intersection at or near point 502672.81546764076 6838267.5565184839\n",
      "Ring Self-intersection at or near point 443964.33235336095 6731427.6055052504\n",
      "Ring Self-intersection at or near point 507381.69444976747 6577735.5379028618\n",
      "Ring Self-intersection at or near point 614804.44909994304 6752607.623711843\n",
      "Ring Self-intersection at or near point 755614.54149248451 6449606.886253275\n",
      "Ring Self-intersection at or near point 489855.60472229123 6763453.3165367991\n",
      "Ring Self-intersection at or near point 520060.10424371064 6767048.4616302699\n",
      "Ring Self-intersection at or near point 458976.32013320923 6689459.9724000841\n",
      "Ring Self-intersection at or near point 605665.86286050081 6618884.6586552039\n",
      "Ring Self-intersection at or near point 533847.38685119897 6616519.0138354599\n",
      "Ring Self-intersection at or near point 509870.99721831083 6636313.1835308783\n",
      "Ring Self-intersection at or near point 586111.44051988423 6683541.6934757791\n",
      "Ring Self-intersection at or near point 681038.33828843385 6722347.6238575019\n",
      "Ring Self-intersection at or near point 614804.44909994304 6752607.623711843\n",
      "Ring Self-intersection at or near point 586111.44051988423 6683541.6934757791\n",
      "Ring Self-intersection at or near point 681038.33828843385 6722347.6238575019\n",
      "Ring Self-intersection at or near point 614804.44909994304 6752607.623711843\n",
      "Ring Self-intersection at or near point 605665.86286050081 6618884.6586552039\n",
      "Ring Self-intersection at or near point 533847.38685119897 6616519.0138354599\n",
      "Ring Self-intersection at or near point 719399.12468616664 6647586.8261894435\n",
      "Ring Self-intersection at or near point 626339.91171664 6678237.8466899544\n",
      "Ring Self-intersection at or near point 681038.33828843385 6722347.6238575019\n",
      "Ring Self-intersection at or near point 673704.17546127737 6685342.7484785393\n",
      "Ring Self-intersection at or near point 586111.44051988423 6683541.6934757791\n",
      "Ring Self-intersection at or near point 666140.39056365192 6733294.7213763185\n",
      "Ring Self-intersection at or near point 573071.94984416664 6705743.6817314439\n",
      "Ring Self-intersection at or near point 743681.75152677298 6554229.335052453\n",
      "Ring Self-intersection at or near point 762617.63189723343 6887051.7097288333\n",
      "Ring Self-intersection at or near point 759313.64834127575 6887291.6198279373\n"
     ]
    },
    {
     "name": "stdout",
     "output_type": "stream",
     "text": [
      "-- finish reading shp file --> 0:03:28.913578 \n"
     ]
    }
   ],
   "source": [
    "# correct / debug unvalid geometries\n",
    "# GREEDY ---> 00:06:00\n",
    "\n",
    "def buffer_geom(row):\n",
    "    \n",
    "    debug             = True\n",
    "    buffer_on_invalid = False           ### False == apply on all .shp\n",
    "    \n",
    "    geom              = row[\"geometry\"]\n",
    "    is_valid          = geom.is_valid\n",
    "    buffer_value      = 0               ### to \"fix\" invalild\n",
    "    \n",
    "    \n",
    "    ### only on invalid\n",
    "    if buffer_on_invalid == True :\n",
    "        \n",
    "        if is_valid == False :\n",
    "\n",
    "            if debug == True :\n",
    "                print \"-- unvalid geom for CdEuMasseD : %s / CdPolygMas : %s \" %(row[\"CdEuMasseD\"], row[\"CdPolygMas\"])\n",
    "\n",
    "            geom = geom.buffer(buffer_value)\n",
    "\n",
    "        else : \n",
    "            pass\n",
    "    \n",
    "    ### on all shapes\n",
    "    elif buffer_on_invalid == False :\n",
    "\n",
    "        geom = geom.buffer(buffer_value)\n",
    "\n",
    "    \n",
    "    return geom\n",
    "\n",
    "\n",
    "start_buffer_time = datetime.now()                                                               \n",
    "\n",
    "gdf_waters[\"geometry\"] = gdf_waters.apply(buffer_geom, axis=1)\n",
    "\n",
    "'''\n",
    "TopologyException: found non-noded intersection \n",
    "LINESTRING (606678 6.68873e+06, 606674 6.68873e+06) \n",
    "and \n",
    "LINESTRING (606674 6.68873e+06, 606678 6.68873e+06) \n",
    "at \n",
    "606674.05562397465 6688731.6787636271\n",
    "'''\n",
    "\n",
    "finish_buffer_delta_time = datetime.now() - start_read_time\n",
    "print \"-- finish reading shp file --> %s \" %(finish_buffer_delta_time)\n",
    "\n",
    "\n"
   ]
  },
  {
   "cell_type": "code",
   "execution_count": 25,
   "metadata": {
    "collapsed": false
   },
   "outputs": [],
   "source": [
    "#gdf_waters[\"geom_valid\"] = gdf_waters[\"geometry\"].is_valid"
   ]
  },
  {
   "cell_type": "code",
   "execution_count": 26,
   "metadata": {
    "collapsed": false
   },
   "outputs": [],
   "source": [
    "### test not valid geoms \n",
    "#not_valid_geoms = gdf_waters.loc[ gdf_waters[\"geom_valid\"] == False ]\n",
    "#print not_valid_geoms.shape\n",
    "#not_valid_geoms.head(3)\n",
    "#not_valid_geoms.plot()"
   ]
  },
  {
   "cell_type": "code",
   "execution_count": 27,
   "metadata": {
    "collapsed": false
   },
   "outputs": [],
   "source": [
    "### test not valid geom\n",
    "#notvalid_a  = gdf_waters.loc[ idx[:, \"B1G018\"], :].copy()\n",
    "#notvalid_b = notvalid_a.loc[ notvalid_a[\"geom_valid\"] == False ]\n",
    "#notvalid_b.plot()\n",
    "#notvalid_b[\"geometry\"] = notvalid_b[\"geometry\"].buffer(0.0)\n",
    "#print notvalid_b[\"geometry\"].is_valid"
   ]
  },
  {
   "cell_type": "code",
   "execution_count": 28,
   "metadata": {
    "collapsed": false
   },
   "outputs": [
    {
     "name": "stdout",
     "output_type": "stream",
     "text": [
      "(1103, 28)\n"
     ]
    }
   ],
   "source": [
    "print gdf_waters.shape"
   ]
  },
  {
   "cell_type": "code",
   "execution_count": 29,
   "metadata": {
    "collapsed": false
   },
   "outputs": [],
   "source": [
    "#checkDTypes(gdf_waters) \n"
   ]
  },
  {
   "cell_type": "code",
   "execution_count": 30,
   "metadata": {
    "collapsed": false
   },
   "outputs": [],
   "source": [
    "#print list(gdf_waters.index.get_level_values(\"CdBassinDC\").unique())"
   ]
  },
  {
   "cell_type": "code",
   "execution_count": 31,
   "metadata": {
    "collapsed": false
   },
   "outputs": [],
   "source": [
    "#print list(gdf_waters.index.get_level_values(\"CdMasseDEa\").unique())[:20], \"...\""
   ]
  },
  {
   "cell_type": "code",
   "execution_count": 32,
   "metadata": {
    "collapsed": false
   },
   "outputs": [
    {
     "name": "stdout",
     "output_type": "stream",
     "text": [
      "[u'CdEcoregio', u'CdEuMasseD', u'CdPolygMas', u'Commentair', u'DateCreati', u'DateMajMas', u'FrangeLitt', u'Karstique', u'LatMasseDE', u'LonMasseDE', u'MasseDEauA', u'MasseDEauT', u'NatureEcou', u'Niveau', u'NomMasseDE', u'PrecSupMas', u'Regroupees', u'StMasseDEa', u'SurfaceAff', u'SurfaceSsC', u'SurfaceTot', u'SystemeRef', u'TypeMasseD', 'geometry', 'area', 'centroid', 'CdBassinDC', 'CdMasseDEa']\n"
     ]
    }
   ],
   "source": [
    "print list(gdf_waters.columns.values)\n",
    "#CdPolygMas, "
   ]
  },
  {
   "cell_type": "code",
   "execution_count": 33,
   "metadata": {
    "collapsed": true
   },
   "outputs": [
    {
     "data": {
      "text/plain": [
       "CdEcoregio                                                   13\n",
       "CdEuMasseD                                              FRAG001\n",
       "CdPolygMas                                             00000002\n",
       "Commentair                                                 None\n",
       "DateCreati                                  2004-12-31 00:00:00\n",
       "DateMajMas                                  2013-12-18 00:00:00\n",
       "FrangeLitt                                                    N\n",
       "Karstique                                                     N\n",
       "LatMasseDE                                          7.06908e+06\n",
       "LonMasseDE                                               639573\n",
       "MasseDEauA                                                    N\n",
       "MasseDEauT                                                    N\n",
       "NatureEcou                                                    3\n",
       "Niveau                                                        2\n",
       "NomMasseDE                              Craie de lâAudomarois\n",
       "PrecSupMas                                                    1\n",
       "Regroupees                                                    N\n",
       "StMasseDEa                                              ValidÃ©\n",
       "SurfaceAff                                                868.2\n",
       "SurfaceSsC                                                 82.4\n",
       "SurfaceTot                                                950.6\n",
       "SystemeRef                                                   26\n",
       "TypeMasseD                                                   DS\n",
       "geometry      POLYGON ((651859.6700888127 7067573.305585384,...\n",
       "area                                                8.23753e+07\n",
       "centroid            POINT (633559.5781241878 7082551.460281919)\n",
       "CdBassinDC                                                    A\n",
       "CdMasseDEa                                                AG001\n",
       "Name: (A, AG001), dtype: object"
      ]
     },
     "execution_count": 33,
     "metadata": {},
     "output_type": "execute_result"
    }
   ],
   "source": [
    "gdf_waters.iloc[0]"
   ]
  },
  {
   "cell_type": "code",
   "execution_count": 34,
   "metadata": {
    "collapsed": true
   },
   "outputs": [
    {
     "data": {
      "text/plain": [
       "CdEcoregio                                                   13\n",
       "CdEuMasseD                                              FRAG001\n",
       "CdPolygMas                                             00000001\n",
       "Commentair                                                 None\n",
       "DateCreati                                  2004-12-31 00:00:00\n",
       "DateMajMas                                  2013-12-18 00:00:00\n",
       "FrangeLitt                                                    N\n",
       "Karstique                                                     N\n",
       "LatMasseDE                                          7.06908e+06\n",
       "LonMasseDE                                               639573\n",
       "MasseDEauA                                                    N\n",
       "MasseDEauT                                                    N\n",
       "NatureEcou                                                    3\n",
       "Niveau                                                        1\n",
       "NomMasseDE                              Craie de lâAudomarois\n",
       "PrecSupMas                                                    1\n",
       "Regroupees                                                    N\n",
       "StMasseDEa                                              ValidÃ©\n",
       "SurfaceAff                                                868.2\n",
       "SurfaceSsC                                                 82.4\n",
       "SurfaceTot                                                950.6\n",
       "SystemeRef                                                   26\n",
       "TypeMasseD                                                   DS\n",
       "geometry      (POLYGON ((617227.0852775276 7096815.711801797...\n",
       "area                                                8.68177e+08\n",
       "centroid            POINT (628581.5922041651 7071783.175484098)\n",
       "CdBassinDC                                                    A\n",
       "CdMasseDEa                                                AG001\n",
       "Name: (A, AG001), dtype: object"
      ]
     },
     "execution_count": 34,
     "metadata": {},
     "output_type": "execute_result"
    }
   ],
   "source": [
    "gdf_waters.iloc[1]"
   ]
  },
  {
   "cell_type": "code",
   "execution_count": 35,
   "metadata": {
    "collapsed": false
   },
   "outputs": [],
   "source": [
    "#gdf_waters.index"
   ]
  },
  {
   "cell_type": "code",
   "execution_count": 36,
   "metadata": {
    "collapsed": false
   },
   "outputs": [
    {
     "name": "stdout",
     "output_type": "stream",
     "text": [
      "lev_index : 1 - cd_list : [u'A', u'B1', u'B2', u'C', u'D', u'E', u'F', u'G', u'H']\n",
      "lev_index : 2 - cd_list : ... [u'HG301', u'HG302', u'HG303', u'HG304', u'HG305', u'HG306', u'HG307', u'HG308', u'HG309', u'HG310', u'HG401', u'HG402', u'HG501', u'HG502', u'HG503', u'HG504', u'HG505', u'HG506', u'HG507', u'HG508'] ...\n",
      "\n",
      " A : count 16 ME\n",
      " B1 : count 11 ME\n",
      " B2 : count 2 ME\n",
      " C : count 15 ME\n",
      " D : count 239 ME\n",
      " E : count 15 ME\n",
      " F : count 105 ME\n",
      " G : count 143 ME\n",
      " H : count 53 ME\n",
      "\n",
      " Bassins_ME_dict['G'] :  [u'GG001', u'GG002', u'GG003', u'GG004', u'GG005', u'GG006', u'GG007', u'GG008', u'GG009', u'GG010', u'GG011', u'GG012', u'GG013', u'GG014', u'GG015', u'GG016', u'GG017', u'GG018', u'GG019', u'GG020', u'GG021', u'GG022', u'GG023', u'GG024', u'GG025', u'GG026', u'GG027', u'GG028', u'GG029', u'GG030', u'GG031', u'GG032', u'GG033', u'GG034', u'GG035', u'GG036', u'GG037', u'GG038', u'GG039', u'GG040', u'GG041', u'GG042', u'GG043', u'GG044', u'GG045', u'GG046', u'GG047', u'GG048', u'GG049', u'GG050', u'GG051', u'GG052', u'GG053', u'GG054', u'GG055', u'GG056', u'GG057', u'GG058', u'GG059', u'GG060', u'GG061', u'GG062', u'GG063', u'GG064', u'GG065', u'GG066', u'GG067', u'GG068', u'GG069', u'GG070', u'GG071', u'GG072', u'GG073', u'GG074', u'GG075', u'GG076', u'GG077', u'GG078', u'GG079', u'GG080', u'GG081', u'GG082', u'GG083', u'GG084', u'GG085', u'GG086', u'GG087', u'GG088', u'GG089', u'GG090', u'GG091', u'GG092', u'GG093', u'GG094', u'GG095', u'GG096', u'GG097', u'GG098', u'GG099', u'GG100', u'GG101', u'GG102', u'GG103', u'GG104', u'GG105', u'GG106', u'GG107', u'GG108', u'GG109', u'GG110', u'GG111', u'GG112', u'GG113', u'GG114', u'GG115', u'GG116', u'GG117', u'GG118', u'GG119', u'GG120', u'GG121', u'GG122', u'GG123', u'GG124', u'GG125', u'GG126', u'GG127', u'GG128', u'GG129', u'GG130', u'GG131', u'GG132', u'GG133', u'GG134', u'GG135', u'GG136', u'GG137', u'GG138', u'GG139', u'GG140', u'GG141', u'GG142', u'GG143']\n",
      "\n",
      " ME_Bassins_dict['AG001'] :  A\n"
     ]
    }
   ],
   "source": [
    "### list of unique values MdE_cd for index \"CdMasseDEa\"\n",
    "\n",
    "Bassins_cd_dict = {\"lev_index\" : 1, \"cd_list\" : list( gdf_waters.index.get_level_values(\"CdBassinDC\").unique() ) }\n",
    "MdEs_cd_dict    = {\"lev_index\" : 2, \"cd_list\" : list( gdf_waters.index.get_level_values(\"CdMasseDEa\").unique() ) }\n",
    "\n",
    "print \"lev_index : %s - cd_list : %s\" %(Bassins_cd_dict[\"lev_index\"]     , Bassins_cd_dict[\"cd_list\"])\n",
    "print \"lev_index : %s - cd_list : ... %s ...\" %(MdEs_cd_dict[\"lev_index\"], MdEs_cd_dict[\"cd_list\"][-20:])\n",
    "print \n",
    "\n",
    "### dictionnaries sublevels\n",
    "Bassins_ME_dict = {}\n",
    "for bassin in Bassins_cd_dict[\"cd_list\"] :\n",
    "    sub_ME = [ ME for ME in MdEs_cd_dict[\"cd_list\"] if ( ME.startswith(bassin) ) ]\n",
    "    Bassins_ME_dict[bassin] = sub_ME\n",
    "    print \" %s : count %s ME\" %(bassin, len(sub_ME) )\n",
    "\n",
    "print\n",
    "\n",
    "test_uplevel = \"G\"\n",
    "print \" Bassins_ME_dict['%s'] : \" %(test_uplevel), Bassins_ME_dict[test_uplevel]\n",
    "print \n",
    "\n",
    "### reverse Bassins_ME_dict\n",
    "ME_Bassins_dict ={}\n",
    "for bassin, ME_list in Bassins_ME_dict.iteritems():\n",
    "    for ME in ME_list :\n",
    "        ME_Bassins_dict[ME] = bassin\n",
    "    \n",
    "test_sublevel = \"AG001\"\n",
    "print \" ME_Bassins_dict['%s'] : \" %(test_sublevel), ME_Bassins_dict[test_sublevel]\n"
   ]
  },
  {
   "cell_type": "code",
   "execution_count": 37,
   "metadata": {
    "collapsed": false
   },
   "outputs": [
    {
     "data": {
      "text/plain": [
       "(307, 18)"
      ]
     },
     "execution_count": 37,
     "metadata": {},
     "output_type": "execute_result"
    }
   ],
   "source": [
    "### test loc\n",
    "\n",
    "idx = pd.IndexSlice\n",
    "\n",
    "gdf_waters.loc[ idx[ \"G\", : ], \"MasseDEauA\": ].shape\n",
    "#gdf_waters.loc[ idx[ \"A\", : ], \"MasseDEauA\":\"TypeMasseD\" ].head()"
   ]
  },
  {
   "cell_type": "code",
   "execution_count": 38,
   "metadata": {
    "collapsed": false
   },
   "outputs": [],
   "source": [
    "## test loc on geometry\n",
    "\n",
    "#test_geom = gdf_waters.loc[\"A\",\"AG001\"][\"geometry\"]\n",
    "#test_geom"
   ]
  },
  {
   "cell_type": "code",
   "execution_count": 39,
   "metadata": {
    "collapsed": false
   },
   "outputs": [],
   "source": [
    "### test loc slice 2 dimensions\n",
    "\n",
    "#gdf_waters.head(50).loc[ idx[:,\"AG001\"], idx[\"MasseDEauA\":]]\n"
   ]
  },
  {
   "cell_type": "code",
   "execution_count": 40,
   "metadata": {
    "collapsed": false
   },
   "outputs": [],
   "source": [
    "### test if NaN in CdMasseDEa\n",
    "\n",
    "#for cd in list(gdf_waters.index.get_level_values(\"CdMasseDEa\").unique()) :\n",
    "#    if len(cd)<5 :\n",
    "#        print cd"
   ]
  },
  {
   "cell_type": "code",
   "execution_count": 41,
   "metadata": {
    "collapsed": false
   },
   "outputs": [],
   "source": [
    "#gdf_waters.info(memory_usage=\"deep\")"
   ]
  },
  {
   "cell_type": "code",
   "execution_count": 42,
   "metadata": {
    "collapsed": false
   },
   "outputs": [],
   "source": [
    "#gdf_waters.memory_usage().sum()"
   ]
  },
  {
   "cell_type": "code",
   "execution_count": 43,
   "metadata": {
    "collapsed": true
   },
   "outputs": [],
   "source": [
    "\n",
    "####################################################\n",
    "### SIMPLIFY BY UNION  - WARNING GREEDY +++ 20 MIN APPROX.\n",
    "####################################################\n"
   ]
  },
  {
   "cell_type": "code",
   "execution_count": 44,
   "metadata": {
    "collapsed": true
   },
   "outputs": [],
   "source": [
    "# work on a copy of original gdf_waters\n",
    "gdf_waters_copy = gdf_waters.copy()\n"
   ]
  },
  {
   "cell_type": "code",
   "execution_count": 45,
   "metadata": {
    "collapsed": false
   },
   "outputs": [
    {
     "name": "stdout",
     "output_type": "stream",
     "text": [
      "('G', slice(None, None, None))\n"
     ]
    }
   ],
   "source": [
    "### set test slice\n",
    "'''\n",
    " A  : count 16 ME\n",
    " B1 : count 11 ME\n",
    " B2 : count 2 ME\n",
    " C  : count 15 ME\n",
    " D  : count 239 ME <-- \n",
    " E  : count 15 ME\n",
    " F  : count 105 ME <-- \n",
    " G  : count 143 ME <-- !!!\n",
    " H  : count 53 ME  <-- not that fast\n",
    "'''\n",
    "\n",
    "idx = pd.IndexSlice\n",
    "\n",
    "level_1   = \"G\"\n",
    "level_2   = \"AG001\"\n",
    "\n",
    "slice_gdf_lev1 = idx[ level_1 , : ]\n",
    "slice_gdf_lev2 = idx[ : , level_2 ]\n",
    "\n",
    "slice_idx = slice_gdf_lev1\n",
    "\n",
    "print slice_idx\n",
    "\n",
    "#gdf_waters.loc[ slice_gdf_lev1 , : ][\"geometry\"]\n"
   ]
  },
  {
   "cell_type": "code",
   "execution_count": 46,
   "metadata": {
    "collapsed": false
   },
   "outputs": [],
   "source": [
    "### empty structured GDF \n",
    "def empty_GDF(gdf_in, level_index):\n",
    "    \n",
    "    tuples  = []\n",
    "    \n",
    "    if level_index == 1 :\n",
    "        cd_list = Bassins_cd_dict[\"cd_list\"]\n",
    "        _all    = \"XXXXX\"\n",
    "        for bassin in cd_list : \n",
    "            tuple_bassin = ( bassin, bassin + _all )\n",
    "            tuples.append(tuple_bassin)\n",
    "                \n",
    "    elif level_index == 2 :\n",
    "        cd_list = MdEs_cd_dict[\"cd_list\"]\n",
    "        for ME in cd_list : \n",
    "            tuple_ME = ( ME_Bassins_dict[ME], ME ) \n",
    "            tuples.append(tuple_ME)\n",
    "            \n",
    "    ### set empty geodataframe\n",
    "    index_union     = pd.MultiIndex.from_tuples(tuples, names=['CdBassinDC', 'CdMasseDEa'])\n",
    "    gdf_union_empty = gp.GeoDataFrame( data=None, index=index_union, columns=gdf_in.columns)\n",
    "    \n",
    "    return gdf_union_empty\n",
    "\n",
    "\n",
    "### empty gdf for CdBassinDC & CdMasseDEa\n",
    "gdf_union_bassins     = empty_GDF(gdf_waters_copy, level_index=1)\n",
    "gdf_union_bassins.crs = gdf_waters_copy.crs\n",
    "\n",
    "gdf_union_ME          = empty_GDF(gdf_waters_copy, level_index=2)\n",
    "gdf_union_ME.crs      = gdf_waters_copy.crs\n"
   ]
  },
  {
   "cell_type": "code",
   "execution_count": 110,
   "metadata": {
    "collapsed": false
   },
   "outputs": [
    {
     "name": "stdout",
     "output_type": "stream",
     "text": [
      "gdf_union_bassins :  (9, 28)\n"
     ]
    },
    {
     "data": {
      "text/html": [
       "<div>\n",
       "<table border=\"1\" class=\"dataframe\">\n",
       "  <thead>\n",
       "    <tr style=\"text-align: right;\">\n",
       "      <th></th>\n",
       "      <th></th>\n",
       "      <th>CdEcoregio</th>\n",
       "      <th>CdEuMasseD</th>\n",
       "      <th>CdPolygMas</th>\n",
       "      <th>Commentair</th>\n",
       "      <th>DateCreati</th>\n",
       "      <th>DateMajMas</th>\n",
       "      <th>FrangeLitt</th>\n",
       "      <th>Karstique</th>\n",
       "      <th>LatMasseDE</th>\n",
       "      <th>LonMasseDE</th>\n",
       "      <th>...</th>\n",
       "      <th>SurfaceAff</th>\n",
       "      <th>SurfaceSsC</th>\n",
       "      <th>SurfaceTot</th>\n",
       "      <th>SystemeRef</th>\n",
       "      <th>TypeMasseD</th>\n",
       "      <th>geometry</th>\n",
       "      <th>area</th>\n",
       "      <th>centroid</th>\n",
       "      <th>CdBassinDC</th>\n",
       "      <th>CdMasseDEa</th>\n",
       "    </tr>\n",
       "    <tr>\n",
       "      <th>CdBassinDC</th>\n",
       "      <th>CdMasseDEa</th>\n",
       "      <th></th>\n",
       "      <th></th>\n",
       "      <th></th>\n",
       "      <th></th>\n",
       "      <th></th>\n",
       "      <th></th>\n",
       "      <th></th>\n",
       "      <th></th>\n",
       "      <th></th>\n",
       "      <th></th>\n",
       "      <th></th>\n",
       "      <th></th>\n",
       "      <th></th>\n",
       "      <th></th>\n",
       "      <th></th>\n",
       "      <th></th>\n",
       "      <th></th>\n",
       "      <th></th>\n",
       "      <th></th>\n",
       "      <th></th>\n",
       "      <th></th>\n",
       "    </tr>\n",
       "  </thead>\n",
       "  <tbody>\n",
       "    <tr>\n",
       "      <th>A</th>\n",
       "      <th>AXXXXX</th>\n",
       "      <td>13</td>\n",
       "      <td>FRAG001</td>\n",
       "      <td>00000002</td>\n",
       "      <td>None</td>\n",
       "      <td>2004-12-31 00:00:00</td>\n",
       "      <td>2013-12-18 00:00:00</td>\n",
       "      <td>N</td>\n",
       "      <td>N</td>\n",
       "      <td>7.06908e+06</td>\n",
       "      <td>639573</td>\n",
       "      <td>...</td>\n",
       "      <td>868.2</td>\n",
       "      <td>82.4</td>\n",
       "      <td>950.6</td>\n",
       "      <td>26</td>\n",
       "      <td>DS</td>\n",
       "      <td>POLYGON ((744438.6229160428 7000964.664755709,...</td>\n",
       "      <td>9.50552e+08</td>\n",
       "      <td>POINT (666206.6696905004 7019944.150899272)</td>\n",
       "      <td>A</td>\n",
       "      <td>AG001</td>\n",
       "    </tr>\n",
       "    <tr>\n",
       "      <th>B1</th>\n",
       "      <th>B1XXXXX</th>\n",
       "      <td>NaN</td>\n",
       "      <td>NaN</td>\n",
       "      <td>NaN</td>\n",
       "      <td>NaN</td>\n",
       "      <td>NaN</td>\n",
       "      <td>NaN</td>\n",
       "      <td>NaN</td>\n",
       "      <td>NaN</td>\n",
       "      <td>NaN</td>\n",
       "      <td>NaN</td>\n",
       "      <td>...</td>\n",
       "      <td>NaN</td>\n",
       "      <td>NaN</td>\n",
       "      <td>NaN</td>\n",
       "      <td>NaN</td>\n",
       "      <td>NaN</td>\n",
       "      <td>NaN</td>\n",
       "      <td>NaN</td>\n",
       "      <td>NaN</td>\n",
       "      <td>NaN</td>\n",
       "      <td>NaN</td>\n",
       "    </tr>\n",
       "    <tr>\n",
       "      <th>B2</th>\n",
       "      <th>B2XXXXX</th>\n",
       "      <td>NaN</td>\n",
       "      <td>NaN</td>\n",
       "      <td>NaN</td>\n",
       "      <td>NaN</td>\n",
       "      <td>NaN</td>\n",
       "      <td>NaN</td>\n",
       "      <td>NaN</td>\n",
       "      <td>NaN</td>\n",
       "      <td>NaN</td>\n",
       "      <td>NaN</td>\n",
       "      <td>...</td>\n",
       "      <td>NaN</td>\n",
       "      <td>NaN</td>\n",
       "      <td>NaN</td>\n",
       "      <td>NaN</td>\n",
       "      <td>NaN</td>\n",
       "      <td>NaN</td>\n",
       "      <td>NaN</td>\n",
       "      <td>NaN</td>\n",
       "      <td>NaN</td>\n",
       "      <td>NaN</td>\n",
       "    </tr>\n",
       "    <tr>\n",
       "      <th>C</th>\n",
       "      <th>CXXXXX</th>\n",
       "      <td>9</td>\n",
       "      <td>FRCG001</td>\n",
       "      <td>00000047</td>\n",
       "      <td>Cette masse d?eau est de type &lt; alluvionnaire ...</td>\n",
       "      <td>2004-12-31 00:00:00</td>\n",
       "      <td>2013-12-18 00:00:00</td>\n",
       "      <td>N</td>\n",
       "      <td>N</td>\n",
       "      <td>6.81188e+06</td>\n",
       "      <td>1.04134e+06</td>\n",
       "      <td>...</td>\n",
       "      <td>3283</td>\n",
       "      <td>0</td>\n",
       "      <td>3283</td>\n",
       "      <td>26</td>\n",
       "      <td>A</td>\n",
       "      <td>POLYGON ((1040928.227442652 6726990.408012636,...</td>\n",
       "      <td>3.28297e+09</td>\n",
       "      <td>POINT (1041343.908612835 6811884.400742973)</td>\n",
       "      <td>C</td>\n",
       "      <td>CG001</td>\n",
       "    </tr>\n",
       "    <tr>\n",
       "      <th>D</th>\n",
       "      <th>DXXXXX</th>\n",
       "      <td>NaN</td>\n",
       "      <td>NaN</td>\n",
       "      <td>NaN</td>\n",
       "      <td>NaN</td>\n",
       "      <td>NaN</td>\n",
       "      <td>NaN</td>\n",
       "      <td>NaN</td>\n",
       "      <td>NaN</td>\n",
       "      <td>NaN</td>\n",
       "      <td>NaN</td>\n",
       "      <td>...</td>\n",
       "      <td>NaN</td>\n",
       "      <td>NaN</td>\n",
       "      <td>NaN</td>\n",
       "      <td>NaN</td>\n",
       "      <td>NaN</td>\n",
       "      <td>NaN</td>\n",
       "      <td>NaN</td>\n",
       "      <td>NaN</td>\n",
       "      <td>NaN</td>\n",
       "      <td>NaN</td>\n",
       "    </tr>\n",
       "    <tr>\n",
       "      <th>E</th>\n",
       "      <th>EXXXXX</th>\n",
       "      <td>NaN</td>\n",
       "      <td>NaN</td>\n",
       "      <td>NaN</td>\n",
       "      <td>NaN</td>\n",
       "      <td>NaN</td>\n",
       "      <td>NaN</td>\n",
       "      <td>NaN</td>\n",
       "      <td>NaN</td>\n",
       "      <td>NaN</td>\n",
       "      <td>NaN</td>\n",
       "      <td>...</td>\n",
       "      <td>NaN</td>\n",
       "      <td>NaN</td>\n",
       "      <td>NaN</td>\n",
       "      <td>NaN</td>\n",
       "      <td>NaN</td>\n",
       "      <td>NaN</td>\n",
       "      <td>NaN</td>\n",
       "      <td>NaN</td>\n",
       "      <td>NaN</td>\n",
       "      <td>NaN</td>\n",
       "    </tr>\n",
       "    <tr>\n",
       "      <th>F</th>\n",
       "      <th>FXXXXX</th>\n",
       "      <td>NaN</td>\n",
       "      <td>NaN</td>\n",
       "      <td>NaN</td>\n",
       "      <td>NaN</td>\n",
       "      <td>NaN</td>\n",
       "      <td>NaN</td>\n",
       "      <td>NaN</td>\n",
       "      <td>NaN</td>\n",
       "      <td>NaN</td>\n",
       "      <td>NaN</td>\n",
       "      <td>...</td>\n",
       "      <td>NaN</td>\n",
       "      <td>NaN</td>\n",
       "      <td>NaN</td>\n",
       "      <td>NaN</td>\n",
       "      <td>NaN</td>\n",
       "      <td>NaN</td>\n",
       "      <td>NaN</td>\n",
       "      <td>NaN</td>\n",
       "      <td>NaN</td>\n",
       "      <td>NaN</td>\n",
       "    </tr>\n",
       "    <tr>\n",
       "      <th>G</th>\n",
       "      <th>GXXXXX</th>\n",
       "      <td>NaN</td>\n",
       "      <td>NaN</td>\n",
       "      <td>NaN</td>\n",
       "      <td>NaN</td>\n",
       "      <td>NaN</td>\n",
       "      <td>NaN</td>\n",
       "      <td>NaN</td>\n",
       "      <td>NaN</td>\n",
       "      <td>NaN</td>\n",
       "      <td>NaN</td>\n",
       "      <td>...</td>\n",
       "      <td>NaN</td>\n",
       "      <td>NaN</td>\n",
       "      <td>NaN</td>\n",
       "      <td>NaN</td>\n",
       "      <td>NaN</td>\n",
       "      <td>NaN</td>\n",
       "      <td>NaN</td>\n",
       "      <td>NaN</td>\n",
       "      <td>NaN</td>\n",
       "      <td>NaN</td>\n",
       "    </tr>\n",
       "    <tr>\n",
       "      <th>H</th>\n",
       "      <th>HXXXXX</th>\n",
       "      <td>NaN</td>\n",
       "      <td>NaN</td>\n",
       "      <td>NaN</td>\n",
       "      <td>NaN</td>\n",
       "      <td>NaN</td>\n",
       "      <td>NaN</td>\n",
       "      <td>NaN</td>\n",
       "      <td>NaN</td>\n",
       "      <td>NaN</td>\n",
       "      <td>NaN</td>\n",
       "      <td>...</td>\n",
       "      <td>NaN</td>\n",
       "      <td>NaN</td>\n",
       "      <td>NaN</td>\n",
       "      <td>NaN</td>\n",
       "      <td>NaN</td>\n",
       "      <td>NaN</td>\n",
       "      <td>NaN</td>\n",
       "      <td>NaN</td>\n",
       "      <td>NaN</td>\n",
       "      <td>NaN</td>\n",
       "    </tr>\n",
       "  </tbody>\n",
       "</table>\n",
       "<p>9 rows × 28 columns</p>\n",
       "</div>"
      ],
      "text/plain": [
       "                      CdEcoregio CdEuMasseD CdPolygMas  \\\n",
       "CdBassinDC CdMasseDEa                                    \n",
       "A          AXXXXX             13    FRAG001   00000002   \n",
       "B1         B1XXXXX           NaN        NaN        NaN   \n",
       "B2         B2XXXXX           NaN        NaN        NaN   \n",
       "C          CXXXXX              9    FRCG001   00000047   \n",
       "D          DXXXXX            NaN        NaN        NaN   \n",
       "E          EXXXXX            NaN        NaN        NaN   \n",
       "F          FXXXXX            NaN        NaN        NaN   \n",
       "G          GXXXXX            NaN        NaN        NaN   \n",
       "H          HXXXXX            NaN        NaN        NaN   \n",
       "\n",
       "                                                              Commentair  \\\n",
       "CdBassinDC CdMasseDEa                                                      \n",
       "A          AXXXXX                                                   None   \n",
       "B1         B1XXXXX                                                   NaN   \n",
       "B2         B2XXXXX                                                   NaN   \n",
       "C          CXXXXX      Cette masse d?eau est de type < alluvionnaire ...   \n",
       "D          DXXXXX                                                    NaN   \n",
       "E          EXXXXX                                                    NaN   \n",
       "F          FXXXXX                                                    NaN   \n",
       "G          GXXXXX                                                    NaN   \n",
       "H          HXXXXX                                                    NaN   \n",
       "\n",
       "                                DateCreati           DateMajMas FrangeLitt  \\\n",
       "CdBassinDC CdMasseDEa                                                        \n",
       "A          AXXXXX      2004-12-31 00:00:00  2013-12-18 00:00:00          N   \n",
       "B1         B1XXXXX                     NaN                  NaN        NaN   \n",
       "B2         B2XXXXX                     NaN                  NaN        NaN   \n",
       "C          CXXXXX      2004-12-31 00:00:00  2013-12-18 00:00:00          N   \n",
       "D          DXXXXX                      NaN                  NaN        NaN   \n",
       "E          EXXXXX                      NaN                  NaN        NaN   \n",
       "F          FXXXXX                      NaN                  NaN        NaN   \n",
       "G          GXXXXX                      NaN                  NaN        NaN   \n",
       "H          HXXXXX                      NaN                  NaN        NaN   \n",
       "\n",
       "                      Karstique   LatMasseDE   LonMasseDE    ...      \\\n",
       "CdBassinDC CdMasseDEa                                        ...       \n",
       "A          AXXXXX             N  7.06908e+06       639573    ...       \n",
       "B1         B1XXXXX          NaN          NaN          NaN    ...       \n",
       "B2         B2XXXXX          NaN          NaN          NaN    ...       \n",
       "C          CXXXXX             N  6.81188e+06  1.04134e+06    ...       \n",
       "D          DXXXXX           NaN          NaN          NaN    ...       \n",
       "E          EXXXXX           NaN          NaN          NaN    ...       \n",
       "F          FXXXXX           NaN          NaN          NaN    ...       \n",
       "G          GXXXXX           NaN          NaN          NaN    ...       \n",
       "H          HXXXXX           NaN          NaN          NaN    ...       \n",
       "\n",
       "                      SurfaceAff SurfaceSsC SurfaceTot SystemeRef TypeMasseD  \\\n",
       "CdBassinDC CdMasseDEa                                                          \n",
       "A          AXXXXX          868.2       82.4      950.6         26         DS   \n",
       "B1         B1XXXXX           NaN        NaN        NaN        NaN        NaN   \n",
       "B2         B2XXXXX           NaN        NaN        NaN        NaN        NaN   \n",
       "C          CXXXXX           3283          0       3283         26          A   \n",
       "D          DXXXXX            NaN        NaN        NaN        NaN        NaN   \n",
       "E          EXXXXX            NaN        NaN        NaN        NaN        NaN   \n",
       "F          FXXXXX            NaN        NaN        NaN        NaN        NaN   \n",
       "G          GXXXXX            NaN        NaN        NaN        NaN        NaN   \n",
       "H          HXXXXX            NaN        NaN        NaN        NaN        NaN   \n",
       "\n",
       "                                                                geometry  \\\n",
       "CdBassinDC CdMasseDEa                                                      \n",
       "A          AXXXXX      POLYGON ((744438.6229160428 7000964.664755709,...   \n",
       "B1         B1XXXXX                                                   NaN   \n",
       "B2         B2XXXXX                                                   NaN   \n",
       "C          CXXXXX      POLYGON ((1040928.227442652 6726990.408012636,...   \n",
       "D          DXXXXX                                                    NaN   \n",
       "E          EXXXXX                                                    NaN   \n",
       "F          FXXXXX                                                    NaN   \n",
       "G          GXXXXX                                                    NaN   \n",
       "H          HXXXXX                                                    NaN   \n",
       "\n",
       "                              area  \\\n",
       "CdBassinDC CdMasseDEa                \n",
       "A          AXXXXX      9.50552e+08   \n",
       "B1         B1XXXXX             NaN   \n",
       "B2         B2XXXXX             NaN   \n",
       "C          CXXXXX      3.28297e+09   \n",
       "D          DXXXXX              NaN   \n",
       "E          EXXXXX              NaN   \n",
       "F          FXXXXX              NaN   \n",
       "G          GXXXXX              NaN   \n",
       "H          HXXXXX              NaN   \n",
       "\n",
       "                                                          centroid CdBassinDC  \\\n",
       "CdBassinDC CdMasseDEa                                                           \n",
       "A          AXXXXX      POINT (666206.6696905004 7019944.150899272)          A   \n",
       "B1         B1XXXXX                                             NaN        NaN   \n",
       "B2         B2XXXXX                                             NaN        NaN   \n",
       "C          CXXXXX      POINT (1041343.908612835 6811884.400742973)          C   \n",
       "D          DXXXXX                                              NaN        NaN   \n",
       "E          EXXXXX                                              NaN        NaN   \n",
       "F          FXXXXX                                              NaN        NaN   \n",
       "G          GXXXXX                                              NaN        NaN   \n",
       "H          HXXXXX                                              NaN        NaN   \n",
       "\n",
       "                      CdMasseDEa  \n",
       "CdBassinDC CdMasseDEa             \n",
       "A          AXXXXX          AG001  \n",
       "B1         B1XXXXX           NaN  \n",
       "B2         B2XXXXX           NaN  \n",
       "C          CXXXXX          CG001  \n",
       "D          DXXXXX            NaN  \n",
       "E          EXXXXX            NaN  \n",
       "F          FXXXXX            NaN  \n",
       "G          GXXXXX            NaN  \n",
       "H          HXXXXX            NaN  \n",
       "\n",
       "[9 rows x 28 columns]"
      ]
     },
     "execution_count": 110,
     "metadata": {},
     "output_type": "execute_result"
    }
   ],
   "source": [
    "print \"gdf_union_bassins : \", gdf_union_bassins.shape\n",
    "gdf_union_bassins#.head(2)"
   ]
  },
  {
   "cell_type": "code",
   "execution_count": 80,
   "metadata": {
    "collapsed": false
   },
   "outputs": [
    {
     "name": "stdout",
     "output_type": "stream",
     "text": [
      "gdf_union_ME :  (599, 28)\n"
     ]
    },
    {
     "data": {
      "text/html": [
       "<div>\n",
       "<table border=\"1\" class=\"dataframe\">\n",
       "  <thead>\n",
       "    <tr style=\"text-align: right;\">\n",
       "      <th></th>\n",
       "      <th></th>\n",
       "      <th>CdEcoregio</th>\n",
       "      <th>CdEuMasseD</th>\n",
       "      <th>CdPolygMas</th>\n",
       "      <th>Commentair</th>\n",
       "      <th>DateCreati</th>\n",
       "      <th>DateMajMas</th>\n",
       "      <th>FrangeLitt</th>\n",
       "      <th>Karstique</th>\n",
       "      <th>LatMasseDE</th>\n",
       "      <th>LonMasseDE</th>\n",
       "      <th>...</th>\n",
       "      <th>SurfaceAff</th>\n",
       "      <th>SurfaceSsC</th>\n",
       "      <th>SurfaceTot</th>\n",
       "      <th>SystemeRef</th>\n",
       "      <th>TypeMasseD</th>\n",
       "      <th>geometry</th>\n",
       "      <th>area</th>\n",
       "      <th>centroid</th>\n",
       "      <th>CdBassinDC</th>\n",
       "      <th>CdMasseDEa</th>\n",
       "    </tr>\n",
       "    <tr>\n",
       "      <th>CdBassinDC</th>\n",
       "      <th>CdMasseDEa</th>\n",
       "      <th></th>\n",
       "      <th></th>\n",
       "      <th></th>\n",
       "      <th></th>\n",
       "      <th></th>\n",
       "      <th></th>\n",
       "      <th></th>\n",
       "      <th></th>\n",
       "      <th></th>\n",
       "      <th></th>\n",
       "      <th></th>\n",
       "      <th></th>\n",
       "      <th></th>\n",
       "      <th></th>\n",
       "      <th></th>\n",
       "      <th></th>\n",
       "      <th></th>\n",
       "      <th></th>\n",
       "      <th></th>\n",
       "      <th></th>\n",
       "      <th></th>\n",
       "    </tr>\n",
       "  </thead>\n",
       "  <tbody>\n",
       "    <tr>\n",
       "      <th rowspan=\"2\" valign=\"top\">A</th>\n",
       "      <th>AG001</th>\n",
       "      <td>13</td>\n",
       "      <td>FRAG001</td>\n",
       "      <td>00000002</td>\n",
       "      <td>None</td>\n",
       "      <td>2004-12-31 00:00:00</td>\n",
       "      <td>2013-12-18 00:00:00</td>\n",
       "      <td>N</td>\n",
       "      <td>N</td>\n",
       "      <td>7.06908e+06</td>\n",
       "      <td>639573</td>\n",
       "      <td>...</td>\n",
       "      <td>868.2</td>\n",
       "      <td>82.4</td>\n",
       "      <td>950.6</td>\n",
       "      <td>26</td>\n",
       "      <td>DS</td>\n",
       "      <td>POLYGON ((646099.1161229312 7066716.544931233,...</td>\n",
       "      <td>9.50552e+08</td>\n",
       "      <td>POINT (629012.9865884862 7072716.359640343)</td>\n",
       "      <td>A</td>\n",
       "      <td>AG001</td>\n",
       "    </tr>\n",
       "    <tr>\n",
       "      <th>AG002</th>\n",
       "      <td>13</td>\n",
       "      <td>FRAG002</td>\n",
       "      <td>00000003</td>\n",
       "      <td>None</td>\n",
       "      <td>2004-12-31 00:00:00</td>\n",
       "      <td>2013-12-18 00:00:00</td>\n",
       "      <td>N</td>\n",
       "      <td>Y</td>\n",
       "      <td>7.07242e+06</td>\n",
       "      <td>609585</td>\n",
       "      <td>...</td>\n",
       "      <td>477.4</td>\n",
       "      <td>0</td>\n",
       "      <td>477.4</td>\n",
       "      <td>26</td>\n",
       "      <td>DS</td>\n",
       "      <td>POLYGON ((617970.4125330001 7063544.312811732,...</td>\n",
       "      <td>4.77432e+08</td>\n",
       "      <td>POINT (609585.385826876 7072421.478528101)</td>\n",
       "      <td>A</td>\n",
       "      <td>AG002</td>\n",
       "    </tr>\n",
       "  </tbody>\n",
       "</table>\n",
       "<p>2 rows × 28 columns</p>\n",
       "</div>"
      ],
      "text/plain": [
       "                      CdEcoregio CdEuMasseD CdPolygMas Commentair  \\\n",
       "CdBassinDC CdMasseDEa                                               \n",
       "A          AG001              13    FRAG001   00000002       None   \n",
       "           AG002              13    FRAG002   00000003       None   \n",
       "\n",
       "                                DateCreati           DateMajMas FrangeLitt  \\\n",
       "CdBassinDC CdMasseDEa                                                        \n",
       "A          AG001       2004-12-31 00:00:00  2013-12-18 00:00:00          N   \n",
       "           AG002       2004-12-31 00:00:00  2013-12-18 00:00:00          N   \n",
       "\n",
       "                      Karstique   LatMasseDE LonMasseDE    ...     SurfaceAff  \\\n",
       "CdBassinDC CdMasseDEa                                      ...                  \n",
       "A          AG001              N  7.06908e+06     639573    ...          868.2   \n",
       "           AG002              Y  7.07242e+06     609585    ...          477.4   \n",
       "\n",
       "                      SurfaceSsC SurfaceTot SystemeRef TypeMasseD  \\\n",
       "CdBassinDC CdMasseDEa                                               \n",
       "A          AG001            82.4      950.6         26         DS   \n",
       "           AG002               0      477.4         26         DS   \n",
       "\n",
       "                                                                geometry  \\\n",
       "CdBassinDC CdMasseDEa                                                      \n",
       "A          AG001       POLYGON ((646099.1161229312 7066716.544931233,...   \n",
       "           AG002       POLYGON ((617970.4125330001 7063544.312811732,...   \n",
       "\n",
       "                              area  \\\n",
       "CdBassinDC CdMasseDEa                \n",
       "A          AG001       9.50552e+08   \n",
       "           AG002       4.77432e+08   \n",
       "\n",
       "                                                          centroid CdBassinDC  \\\n",
       "CdBassinDC CdMasseDEa                                                           \n",
       "A          AG001       POINT (629012.9865884862 7072716.359640343)          A   \n",
       "           AG002        POINT (609585.385826876 7072421.478528101)          A   \n",
       "\n",
       "                      CdMasseDEa  \n",
       "CdBassinDC CdMasseDEa             \n",
       "A          AG001           AG001  \n",
       "           AG002           AG002  \n",
       "\n",
       "[2 rows x 28 columns]"
      ]
     },
     "execution_count": 80,
     "metadata": {},
     "output_type": "execute_result"
    }
   ],
   "source": [
    "print \"gdf_union_ME : \", gdf_union_ME.shape\n",
    "gdf_union_ME.head(2)"
   ]
  },
  {
   "cell_type": "code",
   "execution_count": 49,
   "metadata": {
    "collapsed": true
   },
   "outputs": [
    {
     "data": {
      "text/html": [
       "<div>\n",
       "<table border=\"1\" class=\"dataframe\">\n",
       "  <thead>\n",
       "    <tr style=\"text-align: right;\">\n",
       "      <th></th>\n",
       "      <th></th>\n",
       "      <th>CdEcoregio</th>\n",
       "      <th>CdEuMasseD</th>\n",
       "      <th>CdPolygMas</th>\n",
       "      <th>Commentair</th>\n",
       "      <th>DateCreati</th>\n",
       "      <th>DateMajMas</th>\n",
       "      <th>FrangeLitt</th>\n",
       "      <th>Karstique</th>\n",
       "      <th>LatMasseDE</th>\n",
       "      <th>LonMasseDE</th>\n",
       "      <th>...</th>\n",
       "      <th>SurfaceAff</th>\n",
       "      <th>SurfaceSsC</th>\n",
       "      <th>SurfaceTot</th>\n",
       "      <th>SystemeRef</th>\n",
       "      <th>TypeMasseD</th>\n",
       "      <th>geometry</th>\n",
       "      <th>area</th>\n",
       "      <th>centroid</th>\n",
       "      <th>CdBassinDC</th>\n",
       "      <th>CdMasseDEa</th>\n",
       "    </tr>\n",
       "    <tr>\n",
       "      <th>CdBassinDC</th>\n",
       "      <th>CdMasseDEa</th>\n",
       "      <th></th>\n",
       "      <th></th>\n",
       "      <th></th>\n",
       "      <th></th>\n",
       "      <th></th>\n",
       "      <th></th>\n",
       "      <th></th>\n",
       "      <th></th>\n",
       "      <th></th>\n",
       "      <th></th>\n",
       "      <th></th>\n",
       "      <th></th>\n",
       "      <th></th>\n",
       "      <th></th>\n",
       "      <th></th>\n",
       "      <th></th>\n",
       "      <th></th>\n",
       "      <th></th>\n",
       "      <th></th>\n",
       "      <th></th>\n",
       "      <th></th>\n",
       "    </tr>\n",
       "  </thead>\n",
       "  <tbody>\n",
       "    <tr>\n",
       "      <th rowspan=\"3\" valign=\"top\">A</th>\n",
       "      <th>AG001</th>\n",
       "      <td>13</td>\n",
       "      <td>FRAG001</td>\n",
       "      <td>00000002</td>\n",
       "      <td>None</td>\n",
       "      <td>2004-12-31 00:00:00</td>\n",
       "      <td>2013-12-18 00:00:00</td>\n",
       "      <td>N</td>\n",
       "      <td>N</td>\n",
       "      <td>7.06908e+06</td>\n",
       "      <td>639573</td>\n",
       "      <td>...</td>\n",
       "      <td>868.2</td>\n",
       "      <td>82.4</td>\n",
       "      <td>950.6</td>\n",
       "      <td>26</td>\n",
       "      <td>DS</td>\n",
       "      <td>POLYGON ((651859.6700888127 7067573.305585384,...</td>\n",
       "      <td>8.23753e+07</td>\n",
       "      <td>633560</td>\n",
       "      <td>A</td>\n",
       "      <td>AG001</td>\n",
       "    </tr>\n",
       "    <tr>\n",
       "      <th>AG002</th>\n",
       "      <td>NaN</td>\n",
       "      <td>NaN</td>\n",
       "      <td>NaN</td>\n",
       "      <td>NaN</td>\n",
       "      <td>NaN</td>\n",
       "      <td>NaN</td>\n",
       "      <td>NaN</td>\n",
       "      <td>NaN</td>\n",
       "      <td>NaN</td>\n",
       "      <td>NaN</td>\n",
       "      <td>...</td>\n",
       "      <td>NaN</td>\n",
       "      <td>NaN</td>\n",
       "      <td>NaN</td>\n",
       "      <td>NaN</td>\n",
       "      <td>NaN</td>\n",
       "      <td>NaN</td>\n",
       "      <td>NaN</td>\n",
       "      <td>NaN</td>\n",
       "      <td>NaN</td>\n",
       "      <td>NaN</td>\n",
       "    </tr>\n",
       "    <tr>\n",
       "      <th>AG003</th>\n",
       "      <td>NaN</td>\n",
       "      <td>NaN</td>\n",
       "      <td>NaN</td>\n",
       "      <td>NaN</td>\n",
       "      <td>NaN</td>\n",
       "      <td>NaN</td>\n",
       "      <td>NaN</td>\n",
       "      <td>NaN</td>\n",
       "      <td>NaN</td>\n",
       "      <td>NaN</td>\n",
       "      <td>...</td>\n",
       "      <td>NaN</td>\n",
       "      <td>NaN</td>\n",
       "      <td>NaN</td>\n",
       "      <td>NaN</td>\n",
       "      <td>NaN</td>\n",
       "      <td>NaN</td>\n",
       "      <td>NaN</td>\n",
       "      <td>NaN</td>\n",
       "      <td>NaN</td>\n",
       "      <td>NaN</td>\n",
       "    </tr>\n",
       "  </tbody>\n",
       "</table>\n",
       "<p>3 rows × 28 columns</p>\n",
       "</div>"
      ],
      "text/plain": [
       "                      CdEcoregio CdEuMasseD CdPolygMas Commentair  \\\n",
       "CdBassinDC CdMasseDEa                                               \n",
       "A          AG001              13    FRAG001   00000002       None   \n",
       "           AG002             NaN        NaN        NaN        NaN   \n",
       "           AG003             NaN        NaN        NaN        NaN   \n",
       "\n",
       "                                DateCreati           DateMajMas FrangeLitt  \\\n",
       "CdBassinDC CdMasseDEa                                                        \n",
       "A          AG001       2004-12-31 00:00:00  2013-12-18 00:00:00          N   \n",
       "           AG002                       NaN                  NaN        NaN   \n",
       "           AG003                       NaN                  NaN        NaN   \n",
       "\n",
       "                      Karstique   LatMasseDE LonMasseDE    ...     SurfaceAff  \\\n",
       "CdBassinDC CdMasseDEa                                      ...                  \n",
       "A          AG001              N  7.06908e+06     639573    ...          868.2   \n",
       "           AG002            NaN          NaN        NaN    ...            NaN   \n",
       "           AG003            NaN          NaN        NaN    ...            NaN   \n",
       "\n",
       "                      SurfaceSsC SurfaceTot SystemeRef TypeMasseD  \\\n",
       "CdBassinDC CdMasseDEa                                               \n",
       "A          AG001            82.4      950.6         26         DS   \n",
       "           AG002             NaN        NaN        NaN        NaN   \n",
       "           AG003             NaN        NaN        NaN        NaN   \n",
       "\n",
       "                                                                geometry  \\\n",
       "CdBassinDC CdMasseDEa                                                      \n",
       "A          AG001       POLYGON ((651859.6700888127 7067573.305585384,...   \n",
       "           AG002                                                     NaN   \n",
       "           AG003                                                     NaN   \n",
       "\n",
       "                              area centroid CdBassinDC CdMasseDEa  \n",
       "CdBassinDC CdMasseDEa                                              \n",
       "A          AG001       8.23753e+07   633560          A      AG001  \n",
       "           AG002               NaN      NaN        NaN        NaN  \n",
       "           AG003               NaN      NaN        NaN        NaN  \n",
       "\n",
       "[3 rows x 28 columns]"
      ]
     },
     "execution_count": 49,
     "metadata": {},
     "output_type": "execute_result"
    }
   ],
   "source": [
    "'''\n",
    "idx = pd.IndexSlice\n",
    "\n",
    "level = \"AG001\"\n",
    "\n",
    "gdf_union_ME.loc[ idx[ :, level], : ] = gdf_waters_copy.loc[ idx[:, level], : ].iloc[0].values\n",
    "\n",
    "gdf_union_ME.head(3)\n",
    "'''\n",
    "print"
   ]
  },
  {
   "cell_type": "code",
   "execution_count": 112,
   "metadata": {
    "collapsed": false
   },
   "outputs": [],
   "source": [
    "\n",
    "###########################################\n",
    "### DEF DISSOLVE METHOD \n",
    "###########################################\n",
    "\n",
    "# cf : http://gis.stackexchange.com/questions/149959/dissolving-polygons-based-on-attributes-with-python-shapely-fiona\n",
    "# cf : http://geopandas.org/aggregation_with_dissolve.html\n",
    "# cf : http://geopandas.readthedocs.io/en/latest/aggregation_with_dissolve.html\n",
    "\n",
    "\n",
    "gdf_waters_copy = gdf_waters.copy()\n",
    "\n",
    "def dissolve_gdf_level( gdf_in, idx_bassins , idx_ME , gdf_out, level_, debug=True ):\n",
    "    \n",
    "    # 1st : dissolve_gdf_level( gdf_waters_copy, up_level, ME, gdf_union_ME, level_=2, debug=False)\n",
    "    # 2d  : dissolve_gdf_level( gdf_union_ME, up_level, XXXXX , gdf_union_bassins, level_=1, debug=True)\n",
    "    \n",
    "    idx = pd.IndexSlice\n",
    "    \n",
    "    #sliceIdx = (idx_bassins, idx_ME)\n",
    "    \n",
    "    if level_ == 1 :\n",
    "        #sliceIdx = idx[ idx_bassins , : ]\n",
    "        sliceIdx = (idx_bassins)\n",
    "        col_Idx  = 'CdBassinDC'\n",
    "        gdf_out_ = \"gdf_union_bassins\"\n",
    "        gdf_in_  = \"gdf_union_ME\"\n",
    "    \n",
    "    elif level_ == 2 :\n",
    "        #sliceIdx = idx[ : , index_ ]\n",
    "        sliceIdx = (idx_bassins, idx_ME)\n",
    "        col_Idx  = 'CdMasseDEa'\n",
    "        gdf_out_ = \"gdf_union_ME\"\n",
    "        gdf_in_  = \"gdf_waters_copy\"\n",
    "    \n",
    "    \n",
    "    start_dissolve_time = datetime.now()                                                               \n",
    "    if debug :\n",
    "        print \">>> start dissolve_gdf_level %s / %s --> %s \" %( idx_bassins, idx_ME, start_dissolve_time )\n",
    "        print \">>> variables /// idx_bassins : %s / idx_ME : %s / gdf_in_ : %s / gdf_out_ : %s \" \\\n",
    "                    %(idx_bassins, idx_ME, gdf_in_, gdf_out_)\n",
    "\n",
    "    \n",
    "    ### copy corresponding slice from gdf_in \n",
    "    gdf_in_slice = gdf_in.loc[ sliceIdx ].copy()\n",
    "    \n",
    "\n",
    "    ### copy and generate dissolved geometry\n",
    "    gdf_in_slice_geom_dissolved = gdf_in_slice[ [ col_Idx , 'geometry' ] ].copy()\n",
    "    gdf_in_slice_geom_dissolved = gdf_in_slice_geom_dissolved.dissolve( by=col_Idx )\n",
    "    \n",
    "    \n",
    "    finish_dissolve_time = datetime.now() -  start_dissolve_time                                                            \n",
    "    if debug :\n",
    "        print \"    ... gdf_in_slice_geom_dissolved : \", gdf_in_slice_geom_dissolved\n",
    "        print \">>> ... finish dissolve %s / %s --> + %s \" %( gdf_in_ , sliceIdx, finish_dissolve_time)\n",
    "    \n",
    "    \n",
    "    ### add CRS\n",
    "    gdf_in_slice_geom_dissolved.crs = gdf_in_slice.crs\n",
    "    \n",
    "    \n",
    "    \n",
    "    ### copy first row of corresponding level & change geom to geoms_slice_union + recompute centroid\n",
    "    if level_ == 2 :\n",
    "        gdf_out.loc[ sliceIdx ]         = gdf_in.loc[ sliceIdx ].iloc[0].values\n",
    "        gdf_out.loc[ sliceIdx ][\"geometry\"] = gdf_in_slice_geom_dissolved.iloc[0][\"geometry\"] ### copy dissolved geometry\n",
    "        \n",
    "    elif level_ == 1 :\n",
    "        gdf_out.loc[ sliceIdx ].iloc[0] = gdf_in.loc[ sliceIdx ].iloc[0].values\n",
    "        gdf_out.loc[ sliceIdx ].iloc[0][\"geometry\"] = gdf_in_slice_geom_dissolved.iloc[0][\"geometry\"] ### copy dissolved geometry\n",
    "    \n",
    "    \n",
    "    #gdf_out.loc[ sliceIdx ][\"geometry\"] = gdf_in_slice_geom_dissolved.iloc[0][\"geometry\"] ### copy dissolved geometry\n",
    "    \n",
    "    gdf_out.loc[ sliceIdx ][\"centroid\"] = gdf_out.loc[ sliceIdx ][\"geometry\"].centroid            ### create new centroid\n",
    "    gdf_out.loc[ sliceIdx ][\"area\"]     = gdf_out.loc[ sliceIdx ][\"geometry\"].area                ### recompute area\n",
    "    \n",
    "    finish_copy_time = datetime.now() -  start_dissolve_time                                                            \n",
    "\n",
    "    if debug :\n",
    "        print \">>> ... finish copy data to %s / %s --> + %s \" %( gdf_out_ , sliceIdx, finish_dissolve_time)\n",
    "        print\n",
    "        "
   ]
  },
  {
   "cell_type": "code",
   "execution_count": 105,
   "metadata": {
    "collapsed": false
   },
   "outputs": [],
   "source": [
    "#gdf_waters_copy.loc[(\"A\", \"AG001\")]\n",
    "#gdf_union_ME.loc[(\"A\")]\n",
    "gdf_union_bassins.loc[ \"A\" ].iloc[0] = gdf_union_ME.loc[ \"A\" ].iloc[0].values"
   ]
  },
  {
   "cell_type": "code",
   "execution_count": null,
   "metadata": {
    "collapsed": false
   },
   "outputs": [
    {
     "name": "stdout",
     "output_type": "stream",
     "text": [
      ">>> START level1 dissolve_gdf_level iteration --> 2016-12-31 03:56:57.311234 \n",
      "\n",
      ">>> start level2 dissolve_gdf_level for A (16 MEs) --> 2016-12-31 03:58:01.070126 \n",
      ">>> start dissolve_gdf_level A / AXXXXX --> 2016-12-31 03:58:01.070444 \n",
      ">>> variables /// idx_bassins : A / idx_ME : AXXXXX / gdf_in_ : gdf_union_ME / gdf_out_ : gdf_union_bassins \n",
      "    ... gdf_in_slice_geom_dissolved :                                                       geometry\n",
      "CdBassinDC                                                   \n",
      "A           POLYGON ((744438.6229160428 7000964.664755709,...\n",
      ">>> ... finish dissolve gdf_union_ME / A --> + 0:00:01.665245 \n",
      ">>> ... finish copy data to gdf_union_bassins / A --> + 0:00:01.665245 \n",
      "\n",
      ">>> ... finish level2 dissolve_gdf_level for A --> + 0:00:01.769419 \n",
      "\n",
      ">>> start level2 dissolve_gdf_level for C (15 MEs) --> 2016-12-31 03:58:02.839621 \n",
      ">>> start dissolve_gdf_level C / CXXXXX --> 2016-12-31 03:58:02.839709 \n",
      ">>> variables /// idx_bassins : C / idx_ME : CXXXXX / gdf_in_ : gdf_union_ME / gdf_out_ : gdf_union_bassins \n",
      "    ... gdf_in_slice_geom_dissolved :                                                       geometry\n",
      "CdBassinDC                                                   \n",
      "C           (POLYGON ((1040928.227442652 6726990.408012636...\n",
      ">>> ... finish dissolve gdf_union_ME / C --> + 0:00:05.036648 \n",
      ">>> ... finish copy data to gdf_union_bassins / C --> + 0:00:05.036648 \n",
      "\n",
      ">>> ... finish level2 dissolve_gdf_level for C --> + 0:00:05.209474 \n",
      "\n",
      ">>> start level2 dissolve_gdf_level for E (15 MEs) --> 2016-12-31 03:58:08.049198 \n",
      ">>> start dissolve_gdf_level E / EXXXXX --> 2016-12-31 03:58:08.049297 \n",
      ">>> variables /// idx_bassins : E / idx_ME : EXXXXX / gdf_in_ : gdf_union_ME / gdf_out_ : gdf_union_bassins \n",
      "    ... gdf_in_slice_geom_dissolved :                                                       geometry\n",
      "CdBassinDC                                                   \n",
      "E           (POLYGON ((1224049.499999993 6046958.500000004...\n",
      ">>> ... finish dissolve gdf_union_ME / E --> + 0:00:03.808944 \n",
      ">>> ... finish copy data to gdf_union_bassins / E --> + 0:00:03.808944 \n",
      "\n",
      ">>> ... finish level2 dissolve_gdf_level for E --> + 0:00:04.071999 \n",
      "\n",
      ">>> start level2 dissolve_gdf_level for D (239 MEs) --> 2016-12-31 03:58:12.121343 \n",
      ">>> start dissolve_gdf_level D / DXXXXX --> 2016-12-31 03:58:12.121471 \n",
      ">>> variables /// idx_bassins : D / idx_ME : DXXXXX / gdf_in_ : gdf_union_ME / gdf_out_ : gdf_union_bassins \n",
      "    ... gdf_in_slice_geom_dissolved :                                                       geometry\n",
      "CdBassinDC                                                   \n",
      "D           (POLYGON ((977103.1000000015 6215933.500000004...\n",
      ">>> ... finish dissolve gdf_union_ME / D --> + 0:01:27.138253 \n",
      ">>> ... finish copy data to gdf_union_bassins / D --> + 0:01:27.138253 \n",
      "\n",
      ">>> ... finish level2 dissolve_gdf_level for D --> + 0:01:27.947907 \n",
      "\n",
      ">>> start level2 dissolve_gdf_level for G (143 MEs) --> 2016-12-31 03:59:40.069358 \n",
      ">>> start dissolve_gdf_level G / GXXXXX --> 2016-12-31 03:59:40.069446 \n",
      ">>> variables /// idx_bassins : G / idx_ME : GXXXXX / gdf_in_ : gdf_union_ME / gdf_out_ : gdf_union_bassins \n"
     ]
    }
   ],
   "source": [
    "########################################################################################\n",
    "### LAUNCH 2/2 FLATTENING - ON LEVEL 1-BASSINS (DISSOLVE MEs WITH SAME BASSIN INDEX) ///  \n",
    "########################################################################################\n",
    "\n",
    "\n",
    "start_dissolve_all = datetime.now() \n",
    "print \">>> START level1 dissolve_gdf_level iteration --> %s \" %( start_dissolve_time )\n",
    "print \n",
    "\n",
    "#for up_level, ME_list in Bassins_ME_dict.iteritems():\n",
    "# equivalent (unordered) to :\n",
    "for up_level in Bassins_cd_dict[\"cd_list\"] :\n",
    "    \n",
    "    start_dissolve_time = datetime.now()                                                               \n",
    "    print \">>> start level2 dissolve_gdf_level for %s (%s MEs) --> %s \" %( up_level, len(ME_list), start_dissolve_time )\n",
    "    \n",
    "    XXXXX = up_level + \"XXXXX\"\n",
    "    dissolve_gdf_level( gdf_union_ME, up_level, XXXXX , gdf_union_bassins, level_=1, debug=True)\n",
    "    \n",
    "    \n",
    "    finish_dissolve_time = datetime.now() -  start_dissolve_time                                                            \n",
    "    print \">>> ... finish level2 dissolve_gdf_level for %s --> + %s \" %( up_level, finish_dissolve_time)\n",
    "    print\n",
    "    \n",
    "    #break for debugging\n",
    "    #break\n",
    "    \n",
    "print\n",
    "print \">>> ... FINISH level2 dissolve_gdf_level iteration --> TOTAL %s \" %( datetime.now() - start_dissolve_all )\n",
    "\n"
   ]
  },
  {
   "cell_type": "code",
   "execution_count": 107,
   "metadata": {
    "collapsed": false
   },
   "outputs": [
    {
     "name": "stdout",
     "output_type": "stream",
     "text": [
      "gdf_union_bassins :  (9, 28)\n",
      " gdf_union_bassins.loc[ slice_level1 , : ] :  (1, 28)\n",
      "\n"
     ]
    },
    {
     "data": {
      "image/png": "[encoded data removed]",
      "text/plain": [
       "<matplotlib.figure.Figure at 0x16f07ff10>"
      ]
     },
     "metadata": {},
     "output_type": "display_data"
    }
   ],
   "source": [
    "#### TEST PLOTS dissolved on level 1\n",
    "\n",
    "#print gdf_union_bassins.loc[up_level].shape\n",
    "print \"gdf_union_bassins : \" , gdf_union_bassins.shape\n",
    "\n",
    "\n",
    "idx = pd.IndexSlice\n",
    "slice_level1 = idx[ \"A\" ]\n",
    "\n",
    "#gdf_union_bassins.head()\n",
    "print \" gdf_union_bassins.loc[ slice_level1 , : ] : \", gdf_union_bassins.loc[ slice_level1 , : ].shape\n",
    "gdf_union_bassins.loc[ slice_level1 , : ].plot(edgecolor='White', alpha=0.2, linewidth='0.1')\n",
    "\n",
    "# labels on plot\n",
    "'''\n",
    "for idx, row in gdf_union_ME.loc[ slice_level2, : ].iterrows():\n",
    "    #print idx\n",
    "    plt.annotate(s=idx,\n",
    "                 xy=getXY(row['centroid']),\n",
    "                 horizontalalignment='center')\n",
    "'''\n",
    "print"
   ]
  },
  {
   "cell_type": "code",
   "execution_count": 67,
   "metadata": {
    "collapsed": true
   },
   "outputs": [],
   "source": [
    "'''\n",
    " A  : count 16 ME\n",
    " B1 : count 11 ME\n",
    " B2 : count 2 ME\n",
    " C  : count 15 ME\n",
    " D  : count 239 ME <-- \n",
    " E  : count 15 ME\n",
    " F  : count 105 ME <-- \n",
    " G  : count 143 ME <-- !!! bug at : GG067 / GG073 / GG130 / GG131\n",
    " H  : count 53 ME  <--\n",
    "'''\n",
    "\n",
    "error_levels_list = [\"GG067\", \"GG073\", \"GG130\", \"GG131\"]"
   ]
  },
  {
   "cell_type": "code",
   "execution_count": 71,
   "metadata": {
    "collapsed": true
   },
   "outputs": [
    {
     "name": "stdout",
     "output_type": "stream",
     "text": [
      ">>> START level2 dissolve_gdf_level iteration --> 2016-12-31 02:22:13.599392 \n",
      "\n",
      ">>> start level2 dissolve_gdf_level for A (16 MEs) --> 2016-12-31 02:26:58.126157 \n",
      ">>> ... finish level2 dissolve_gdf_level for AG001 --> + 0:00:01.302459 \n",
      ">>> start level2 dissolve_gdf_level for C (15 MEs) --> 2016-12-31 02:26:59.428761 \n",
      ">>> ... finish level2 dissolve_gdf_level for AG001 --> + 0:00:03.110534 \n",
      ">>> start level2 dissolve_gdf_level for E (15 MEs) --> 2016-12-31 02:27:02.539444 \n",
      ">>> ... finish level2 dissolve_gdf_level for AG001 --> + 0:00:05.673891 \n",
      ">>> start level2 dissolve_gdf_level for D (239 MEs) --> 2016-12-31 02:27:08.219234 \n",
      ">>> ... finish level2 dissolve_gdf_level for AG001 --> + 0:02:38.334873 \n",
      ">>> start level2 dissolve_gdf_level for G (143 MEs) --> 2016-12-31 02:29:46.560763 \n",
      ">>> ... finish level2 dissolve_gdf_level for AG001 --> + 0:11:42.842804 \n",
      ">>> start level2 dissolve_gdf_level for F (105 MEs) --> 2016-12-31 02:41:29.418194 \n",
      ">>> ... finish level2 dissolve_gdf_level for AG001 --> + 0:01:20.382252 \n",
      ">>> start level2 dissolve_gdf_level for H (53 MEs) --> 2016-12-31 02:42:49.803623 \n",
      ">>> ... finish level2 dissolve_gdf_level for AG001 --> + 0:00:20.512621 \n",
      ">>> start level2 dissolve_gdf_level for B1 (11 MEs) --> 2016-12-31 02:43:10.318175 \n",
      ">>> ... finish level2 dissolve_gdf_level for AG001 --> + 0:00:03.710275 \n",
      ">>> start level2 dissolve_gdf_level for B2 (2 MEs) --> 2016-12-31 02:43:14.028598 \n",
      ">>> ... finish level2 dissolve_gdf_level for AG001 --> + 0:00:00.105407 \n",
      "\n",
      ">>> ... FINISH level2 dissolve_gdf_level iteration --> TOTAL 0:16:16.051221 \n"
     ]
    }
   ],
   "source": [
    "########################################################################################\n",
    "### LAUNCH FLATTENING 1/2 - ON LEVEL 2-MEs (DISSOLVE MEs WITH SAME ME INDEX) ///  GREEDY --> 17:00\n",
    "########################################################################################\n",
    "\n",
    "#up_level = \"A\"\n",
    "\n",
    "start_dissolve_all = datetime.now() \n",
    "print \">>> START level2 dissolve_gdf_level iteration --> %s \" %( start_dissolve_time )\n",
    "print \n",
    "\n",
    "for up_level, ME_list in Bassins_ME_dict.iteritems():\n",
    "    \n",
    "    start_dissolve_time = datetime.now()                                                               \n",
    "    print \">>> start level2 dissolve_gdf_level for %s (%s MEs) --> %s \" %( up_level, len(ME_list), start_dissolve_time )\n",
    "    \n",
    "    for ME in ME_list :\n",
    "    #for ME in Bassins_ME_dict[up_level]:\n",
    "\n",
    "        if ME not in error_levels_list :\n",
    "        #if ME == \"GG131\" :\n",
    "\n",
    "            dissolve_gdf_level( gdf_waters_copy, up_level, ME, gdf_union_ME, level_=2, debug=False)\n",
    "            #break\n",
    "\n",
    "    finish_dissolve_time = datetime.now() -  start_dissolve_time                                                            \n",
    "    print \">>> ... finish level2 dissolve_gdf_level for %s --> + %s \" %( up_level, finish_dissolve_time)\n",
    "\n",
    "print\n",
    "print \">>> ... FINISH level2 dissolve_gdf_level iteration --> TOTAL %s \" %( datetime.now() - start_dissolve_all )\n",
    "\n"
   ]
  },
  {
   "cell_type": "code",
   "execution_count": null,
   "metadata": {
    "collapsed": true
   },
   "outputs": [],
   "source": [
    "### !!! NOT TESTED YET !!!\n",
    "\n",
    "### specials for error levels / \n",
    "### error_levels_list = [\"GG067\", \"GG073\", \"GG130\", \"GG131\"]\n",
    "\n",
    "'''\n",
    "for ME_error in error_levels_list :\n",
    "    dissolve_gdf_level( gdf_waters_copy, \"G\", ME_error, gdf_union_ME, level_=2, debug=True)\n",
    "    break\n",
    "'''\n",
    "print"
   ]
  },
  {
   "cell_type": "code",
   "execution_count": 72,
   "metadata": {
    "collapsed": true
   },
   "outputs": [
    {
     "name": "stdout",
     "output_type": "stream",
     "text": [
      "(599, 28)\n",
      "\n"
     ]
    },
    {
     "data": {
      "image/png": "[encoded data removed]",
      "text/plain": [
       "<matplotlib.figure.Figure at 0x182e461d0>"
      ]
     },
     "metadata": {},
     "output_type": "display_data"
    }
   ],
   "source": [
    "#### TEST PLOTS dissolved on level 2\n",
    "\n",
    "#print gdf_union_ME.loc[up_level].shape\n",
    "print \"gdf_union_ME : \" , gdf_union_ME.shape\n",
    "\n",
    "\n",
    "list_MEs     = [ ME for ME in MdEs_cd_dict[\"cd_list\"] if ME not in error_levels_list ]\n",
    "#list_MEs     = [ ME for ME in Bassins_ME_dict[up_level] if ME not in error_levels_list ]\n",
    "\n",
    "idx = pd.IndexSlice\n",
    "slice_level2 = idx[ : , list_MEs ]\n",
    "\n",
    "#gdf_union_ME.head()\n",
    "print \" gdf_union_ME.loc[ slice_level2 , : ] : \", gdf_union_ME.loc[ slice_level2 , : ].shape\n",
    "gdf_union_ME.loc[ slice_level2 , : ].plot(edgecolor='White', alpha=0.5, linewidth='0.1')\n",
    "\n",
    "# labels on plot\n",
    "'''\n",
    "for idx, row in gdf_union_ME.loc[ slice_level2, : ].iterrows():\n",
    "    #print idx\n",
    "    plt.annotate(s=idx,\n",
    "                 xy=getXY(row['centroid']),\n",
    "                 horizontalalignment='center')\n",
    "'''\n",
    "print"
   ]
  },
  {
   "cell_type": "code",
   "execution_count": 73,
   "metadata": {
    "collapsed": false
   },
   "outputs": [
    {
     "name": "stdout",
     "output_type": "stream",
     "text": [
      "\n"
     ]
    }
   ],
   "source": [
    "### compare / plot original \n",
    "'''\n",
    "print gdf_waters_copy.loc[up_level].shape\n",
    "\n",
    "gdf_waters_copy.loc[ up_level ].plot(edgecolor='White', alpha=0.5, linewidth='0.2')\n",
    "'''\n",
    "\n",
    "# labels on plot\n",
    "'''\n",
    "for idx, row in gdf_waters_copy.loc[up_level].iterrows():\n",
    "    print idx\n",
    "    plt.annotate(s=idx,\n",
    "                 xy=getXY(row['centroid']),\n",
    "                 horizontalalignment='center')\n",
    "'''\n",
    "print"
   ]
  },
  {
   "cell_type": "code",
   "execution_count": null,
   "metadata": {
    "collapsed": false
   },
   "outputs": [],
   "source": [
    "'''\n",
    "### example columns --> \"--\" to Erase/Update from flattened\n",
    "\n",
    "CdEcoregio                                                   13\n",
    "CdEuMasseD                                              FRAG001\n",
    "CdPolygMas                                             00000001 -- ?\n",
    "Commentair                                                 None\n",
    "DateCreati                                  2004-12-31 00:00:00\n",
    "DateMajMas                                  2013-12-18 00:00:00\n",
    "FrangeLitt                                                    N\n",
    "Karstique                                                     N\n",
    "LatMasseDE                                          7.06908e+06 -- ? from BBox ?\n",
    "LonMasseDE                                               639573 -- ? from BBox ?\n",
    "MasseDEauA                                                    N\n",
    "MasseDEauT                                                    N\n",
    "NatureEcou                                                    3\n",
    "Niveau                                                        1\n",
    "NomMasseDE                              Craie de lâAudomarois\n",
    "PrecSupMas                                                    1\n",
    "Regroupees                                                    N\n",
    "StMasseDEa                                              ValidÃ©\n",
    "SurfaceAff                                                868.2 -- U\n",
    "SurfaceSsC                                                 82.4 -- U\n",
    "SurfaceTot                                                950.6 -- U\n",
    "SystemeRef                                                   26\n",
    "TypeMasseD                                                   DS\n",
    "geometry      (POLYGON ((617227.0852775276 7096815.711801797... -- U --> dissolved\n",
    "area                                                8.68177e+08 -- U \n",
    "centroid            POINT (628581.5922041651 7071783.175484098)\n",
    "CdBassinDC                                                    A\n",
    "CdMasseDEa                                                AG001\n",
    "'''\n",
    "print\n",
    "\n",
    "\n"
   ]
  },
  {
   "cell_type": "code",
   "execution_count": null,
   "metadata": {
    "collapsed": true
   },
   "outputs": [],
   "source": [
    "\n",
    "\n",
    "'''\n",
    "ERROR ON DISSOLVE METHOD GENERALIZED\n",
    "\n",
    "TopologyException: found non-noded intersection \n",
    "between LINESTRING (606678 6.68873e+06, 606674 6.68873e+06) \n",
    "and LINESTRING (606674 6.68873e+06, 606678 6.68873e+06) at 606674.05562397465 6688731.6787636271\n",
    "\n",
    "TEST FIX :\n",
    "cf : http://gis.stackexchange.com/questions/50399/how-best-to-fix-a-non-noded-intersection-problem-in-postgis\n",
    "\n",
    "--> apply bigger buffer on all polygons upper on gdf_waters\n",
    "'''\n",
    "\n",
    "\n",
    "\n",
    "\n",
    "\n"
   ]
  },
  {
   "cell_type": "code",
   "execution_count": null,
   "metadata": {
    "collapsed": false
   },
   "outputs": [],
   "source": [
    "### PRE-SIMPLIFICATION --> 0:00:42 to 0:59\n",
    "'''\n",
    "# set simplifier\n",
    "tolerance = 5    ### in meters ?\n",
    "presTopo  = False\n",
    "\n",
    "start_presimplify_time = datetime.now()                                                               \n",
    "print \">>> start presimplify gdf_waters_copy --> %s \" %(start_presimplify_time)\n",
    "\n",
    "\n",
    "### simplify\n",
    "gdf_waters_copy[\"geometry\"] = gdf_waters_copy[\"geometry\"].simplify(tolerance, preserve_topology=presTopo)\n",
    "\n",
    "finish_presimplify_delta_time = datetime.now() - start_presimplify_time\n",
    "print \"... finish presimplify gdf_waters_copy --> + %s \" %(finish_presimplify_delta_time)\n",
    "\n",
    "### buffer on unvalid geometries\n",
    "gdf_waters_copy[\"geometry\"] = gdf_waters_copy.apply(buffer_geom, axis=1)\n",
    "\n",
    "\n",
    "finish_buffer_delta_time = datetime.now() - start_presimplify_time\n",
    "print \">>> finish buffer gdf_waters_copy simplified --> + %s \" %(finish_buffer_delta_time)\n",
    "'''\n",
    "print"
   ]
  },
  {
   "cell_type": "code",
   "execution_count": null,
   "metadata": {
    "collapsed": true
   },
   "outputs": [],
   "source": [
    "gdf_waters_copy.head(1)\n",
    "gdf_waters_copy.plot(edgecolor='none')"
   ]
  },
  {
   "cell_type": "code",
   "execution_count": null,
   "metadata": {
    "collapsed": true
   },
   "outputs": [],
   "source": [
    "### plotting slice_idx -- heavier/more problematic is G / H\n",
    "'''\n",
    " A  : count 16 ME\n",
    " B1 : count 11 ME\n",
    " B2 : count 2 ME\n",
    " C  : count 15 ME\n",
    " D  : count 239 ME <-- \n",
    " E  : count 15 ME\n",
    " F  : count 105 ME <-- \n",
    " G  : count 143 ME <-- 12:00 + on gdf_waters / 01:24 ++ on gdf_waters_copy simplified by 25\n",
    " H  : count 53 ME  <-- ??      on gdf_waters / ?? on gdf_waters_copy\n",
    "'''\n",
    "\n",
    "start_plotting_time = datetime.now()                                                               \n",
    "print \"-- start plotting gdf_waters_copy / level %s --> %s \" %(slice_idx, start_plotting_time)\n",
    "\n",
    "#gdf_waters_copy.loc[ slice_gdf_lev1, : ].plot(edgecolor='none')\n",
    "#gdf_waters_copy.loc[ slice_idx, : ][\"geometry\"].plot(edgecolor='none')\n",
    "gdf_waters_copy.loc[ slice_idx, : ].plot(edgecolor='none')\n",
    "\n",
    "finish_plotting_delta_time = datetime.now() - start_plotting_time\n",
    "print \"-- finish plotting gdf_waters_copy / level %s --> %s \" %(slice_idx, finish_plotting_delta_time)\n",
    "\n",
    "# labels on plot\n",
    "for idx, row in gdf_waters_copy.iterrows():\n",
    "    plt.annotate(s=idx[0],\n",
    "                 xy=getXY(row['centroid']),\n",
    "                 horizontalalignment='center')\n"
   ]
  },
  {
   "cell_type": "code",
   "execution_count": null,
   "metadata": {
    "collapsed": true
   },
   "outputs": [],
   "source": [
    "# test union on G\n",
    "test_union = gdf_waters_copy.loc[ slice_idx, : ].copy()\n",
    "union = test_union[\"geometry\"].unary_union\n",
    "union.plot(edgecolor='none', alpha=0.5)\n"
   ]
  },
  {
   "cell_type": "code",
   "execution_count": null,
   "metadata": {
    "collapsed": false
   },
   "outputs": [],
   "source": [
    "### test slice + simplify\n",
    "\n",
    "#gdf_waters_copy.head(10).plot()\n",
    "#gdf_waters_copy.loc[\"A\", \"AG015\"][\"geometry\"].simplify(200, preserve_topology=False).plot()\n",
    "#gdf_waters_copy.loc[\"B1\"][\"geometry\"].simplify(500, preserve_topology=False).plot()\n",
    "#gdf_waters_copy.loc[\"A\":\"B1\"][\"geometry\"].simplify(700, preserve_topology=False).plot()\n",
    "gdf_waters_copy.loc[ slice_idx, : ][\"geometry\"].simplify(600, preserve_topology=False).plot(edgecolor='none')\n"
   ]
  },
  {
   "cell_type": "code",
   "execution_count": null,
   "metadata": {
    "collapsed": false
   },
   "outputs": [],
   "source": [
    "# test extract and copy for union\n",
    "\n",
    "copied_slice = gdf_waters_copy.loc[ slice_idx, : ].copy()\n",
    "\n",
    "#gdf_waters_test_union = gp.GeoDataFrame( data=gdf_waters.loc[\"A\",\"AG001\"].head(1), index=gdf_waters.index, columns=gdf_waters.columns)\n",
    "gdf_waters_test_union = gp.GeoDataFrame( data=copied_slice, index=None, columns=gdf_waters_copy.columns)\n",
    "gdf_waters_test_union.plot(edgecolor='White', alpha=0.5)\n",
    "\n",
    "#gdf_waters_test_union.index\n",
    "\n",
    "# labels on plot\n",
    "for idx, row in gdf_waters_test_union.iterrows():\n",
    "    plt.annotate(s=idx[1],\n",
    "                 xy=getXY(row['centroid']),\n",
    "                 horizontalalignment='center')\n",
    "\n",
    "print"
   ]
  },
  {
   "cell_type": "code",
   "execution_count": null,
   "metadata": {
    "collapsed": false
   },
   "outputs": [],
   "source": [
    "#copied_slice = gdf_waters_copy.loc[ slice_idx, : ].copy()\n",
    "#copied_slice.tail()\n",
    "#copied_slice.iloc[0]"
   ]
  },
  {
   "cell_type": "code",
   "execution_count": null,
   "metadata": {
    "collapsed": true
   },
   "outputs": [],
   "source": [
    "## test tuples by CD_ME ou CD_BASSIN\n",
    "\n",
    "print \"lev_index : %s - cd_list (len %s ) : %s\" %(Bassins_cd_dict[\"lev_index\"], len(Bassins_cd_dict[\"cd_list\"]), Bassins_cd_dict[\"cd_list\"])\n",
    "print \"lev_index : %s - cd_list (len %s ) : ... %s ...\" %(MdEs_cd_dict[\"lev_index\"], len(MdEs_cd_dict[\"cd_list\"]), MdEs_cd_dict[\"cd_list\"][-20:])\n",
    "print\n",
    "\n",
    "tuples_allBassins = []\n",
    "_all = \"XXXXX\"\n",
    "\n",
    "for bassin in Bassins_cd_dict[\"cd_list\"] : \n",
    "    tuple_bassin = ( bassin, bassin + _all )\n",
    "    tuples_allBassins.append(tuple_bassin)\n",
    "    \n",
    "print tuples_allBassins\n"
   ]
  },
  {
   "cell_type": "code",
   "execution_count": null,
   "metadata": {
    "collapsed": true
   },
   "outputs": [],
   "source": [
    "\n",
    "### set test slice\n",
    "idx = pd.IndexSlice\n",
    "\n",
    "\n",
    "### unary_union function ###\n",
    "def Union_GDF( gdf_in, gdf_union_out, level_index ):\n",
    "    \n",
    "    start_time = datetime.now()\n",
    "    print \">>>>> START Union_GDF at time : %s >>>>>\" %(start_time)\n",
    "        \n",
    "    #tuples  = []\n",
    "    \n",
    "    if level_index == 1 :\n",
    "        cd_list = Bassins_cd_dict[\"cd_list\"]\n",
    "        \n",
    "    elif level_index == 2 :\n",
    "        cd_list = MdEs_cd_dict[\"cd_list\"]\n",
    "            \n",
    "    lap_start = datetime.now()\n",
    "    \n",
    "    ### iterate through levels of flattening\n",
    "    for i, cd in enumerate(cd_list) : \n",
    "                \n",
    "        print \"-- start  flatenning level %s \" %(cd)\n",
    "        \n",
    "        if level_index == 1 :\n",
    "            idx_slice = idx[ cd, : ]\n",
    "        elif level_index == 2 :\n",
    "            idx_slice = idx[ : , cd]\n",
    "        \n",
    "        copied_slice         = gdf_in.loc[ idx_slice , : ].copy()\n",
    "        geoms_slice          = copied_slice[\"geometry\"].copy()\n",
    "        geoms_slice_union    = geoms_slice.unary_union\n",
    "        geoms_union_centroid = geoms_slice_union.centroid\n",
    "        \n",
    "        ### copy first row of corresponding level & change geom to geoms_slice_union + recompute centroid\n",
    "        gdf_union_out.iloc[i]             = copied_slice.iloc[0]\n",
    "        gdf_union_out.iloc[i][\"geometry\"] = geoms_slice_union\n",
    "        gdf_union_out.iloc[i][\"centroid\"] = geoms_union_centroid\n",
    "        \n",
    "        ### debugging\n",
    "        lap_finish = datetime.now() - lap_start\n",
    "        print \"-- finish flatenning level %s / lap_finish : %s \" %(cd, lap_finish)\n",
    "        lap_start = datetime.now()\n",
    "    \n",
    "    \n",
    "    delta_time = datetime.now() - start_time\n",
    "    print \">>>>> FINISH Union_GDF at delta_time : %s >>>>>\" %(delta_time)\n",
    "\n",
    "    return gdf_union_out\n",
    "\n",
    "\n"
   ]
  },
  {
   "cell_type": "code",
   "execution_count": null,
   "metadata": {
    "collapsed": false
   },
   "outputs": [],
   "source": [
    "\n",
    "print \"-- gdf_union_bassins.shape : \", gdf_union_bassins.shape\n",
    "print \"-- gdf_union_ME.shape      : \", gdf_union_ME.shape\n",
    "\n",
    "#gdf_union_bassins\n",
    "gdf_union_ME.head(2)"
   ]
  },
  {
   "cell_type": "code",
   "execution_count": null,
   "metadata": {
    "collapsed": false
   },
   "outputs": [],
   "source": [
    "##########################\n",
    "#### flatten by bassins \n",
    "#### WARNING GREEDY ON LEVEL D, F and G\n",
    "##########################\n",
    "'''\n",
    " A  : count 16 ME\n",
    " B1 : count 11 ME\n",
    " B2 : count 2 ME\n",
    " C  : count 15 ME\n",
    " D  : count 239 ME <-- lap_finish : 0:03:15\n",
    " E  : count 15 ME\n",
    " F  : count 105 ME <-- lap_finish : 0:01:03\n",
    " G  : count 143 ME <-- lap_finish !!!!!!!!!!!!! BUG !!!!!\n",
    " H  : count 53 ME  <-- ??\n",
    "'''\n",
    "##########################\n",
    "\n",
    "gdf_union_bassins = Union_GDF( gdf_waters_copy, gdf_union_bassins, level_index=1 )\n",
    "gdf_union_bassins.plot(edgecolor='White', alpha=0.5)\n",
    "\n",
    "for idx, row in gdf_union_bassins.iterrows():\n",
    "    plt.annotate(s=idx[1],\n",
    "                 xy=getXY(row['centroid']),\n",
    "                 horizontalalignment='center')\n",
    "    \n"
   ]
  },
  {
   "cell_type": "code",
   "execution_count": null,
   "metadata": {
    "collapsed": true
   },
   "outputs": [],
   "source": [
    "###########################\n",
    "## flatten by ME\n",
    "##########################\n",
    "\n",
    "gdf_union_ME = Union_GDF( gdf_waters_copy, gdf_union_ME, level_index=2 )\n",
    "\n",
    "for idx, row in gdf_union_ME.iterrows():\n",
    "    plt.annotate(s=idx[1],\n",
    "                 xy=getXY(row['centroid']),\n",
    "                 horizontalalignment='center')"
   ]
  },
  {
   "cell_type": "code",
   "execution_count": null,
   "metadata": {
    "collapsed": true
   },
   "outputs": [],
   "source": [
    "\n",
    "\n",
    "\n",
    "### test union \n",
    "\n",
    "#copied_slice = gdf_waters.loc[ slice_gdf, : ].copy()\n",
    "\n",
    "geoms_slice       = copied_slice[\"geometry\"].copy()\n",
    "geoms_slice_union = geoms_slice.unary_union\n",
    "geoms_slice_union_centroid = geoms_slice_union.centroid\n",
    "\n",
    "### create geodataframe dummy\n",
    "tuples = [(level_1, \"AXXXX\")]\n",
    "index_union = pd.MultiIndex.from_tuples(tuples, names=['CdBassinDC', 'CdMasseDEa'])\n",
    "gdf_test_union             = gp.GeoDataFrame( data=None, index=index_union, columns=copied_slice.columns)\n",
    "\n",
    "### copy first row of corresponding level\n",
    "gdf_test_union.iloc[0]             = copied_slice.iloc[0]\n",
    "gdf_test_union.iloc[0][\"geometry\"] = geoms_slice_union\n",
    "gdf_test_union.iloc[0][\"centroid\"] = geoms_slice_union_centroid\n",
    "\n",
    "gdf_test_union.plot(edgecolor='White', alpha=0.5)\n",
    "\n",
    "for idx, row in gdf_test_union.iterrows():\n",
    "    plt.annotate(s=idx[1],\n",
    "                 xy=getXY(row['centroid']),\n",
    "                 horizontalalignment='center')\n",
    "\n",
    "gdf_test_union.head()\n",
    "\n",
    "#test_union = gdf_waters_test_union.loc[ slice_gdf, : ][\"geometry\"].unary_union\n",
    "#test_union#.plot()\n",
    "\n",
    "#gdf_waters_test_union.loc[ slice_gdf, : ][\"geometry\"] = test_union\n",
    "#gdf_waters_test_union.plot()\n",
    "\n",
    "#gdf_waters_test_union"
   ]
  },
  {
   "cell_type": "code",
   "execution_count": null,
   "metadata": {
    "collapsed": true
   },
   "outputs": [],
   "source": [
    "gdf_waters_copy.head()\n"
   ]
  },
  {
   "cell_type": "code",
   "execution_count": null,
   "metadata": {
    "collapsed": true
   },
   "outputs": [],
   "source": [
    "#for pg in gdf_waters_copy.loc[\"H\",\"HG210\"][\"geometry\"]:\n",
    "#    print pg\n"
   ]
  },
  {
   "cell_type": "code",
   "execution_count": null,
   "metadata": {
    "collapsed": true
   },
   "outputs": [],
   "source": [
    "#gdf_waters_copy.info(memory_usage=\"deep\")"
   ]
  },
  {
   "cell_type": "code",
   "execution_count": null,
   "metadata": {
    "collapsed": true
   },
   "outputs": [],
   "source": [
    "\n",
    "#############################################\n",
    "### REDUCE SIZE GEOJSON : 3 steps\n",
    "###    - 1) union MdE by MdE/CdMasseDEa (by dissolve)\n",
    "###    - 2) simplify geoms for all features\n",
    "###    - 3) convert to TOPOJSON / GEOJSON\n",
    "#############################################\n"
   ]
  },
  {
   "cell_type": "code",
   "execution_count": null,
   "metadata": {
    "collapsed": false
   },
   "outputs": [],
   "source": [
    "### list index values / CdBassinDC + CdMasseDEa\n",
    "\n",
    "#original_index   = gdf.index\n",
    "#original_columns = gdf.columns\n",
    "\n",
    "### empty geoDataframes for flattened levels\n",
    "#gdf_bassins_2D = gp.GeoDataFrame(data=None, index=gdf_waters.index , columns=gdf_waters.columns)\n",
    "gdf_bassins_2D = gp.GeoDataFrame(data=None, index=None , columns=gdf_waters.columns)\n",
    "#gdf_MdEs_2D    = gp.GeoDataFrame(data=None, index=gdf_waters.index , columns=gdf_waters.columns)\n",
    "gdf_MdEs_2D    = gp.GeoDataFrame(data=None, index=None , columns=gdf_waters.columns)\n",
    "\n"
   ]
  },
  {
   "cell_type": "code",
   "execution_count": null,
   "metadata": {
    "collapsed": true
   },
   "outputs": [],
   "source": [
    "# copy original gdf \n",
    "\n",
    "gdf_waters_reduced = gdf_waters.copy()\n",
    "#gdf_waters_reduced.head()"
   ]
  },
  {
   "cell_type": "code",
   "execution_count": null,
   "metadata": {
    "collapsed": false
   },
   "outputs": [],
   "source": [
    "### determine tolerance depending on area (linear function y = ax + b)\n",
    "\n",
    "area_min = gdf_waters[\"area\"].min()\n",
    "area_max = gdf_waters[\"area\"].max()\n",
    "\n",
    "tol_min = 5\n",
    "tol_max = 500\n",
    "\n",
    "print \"area min : \", area_min\n",
    "print \"area max : \", area_max\n",
    "\n",
    "def linear_tolerance(area):\n",
    "    a = (tol_max - tol_min) / ( area_max - area_min)\n",
    "    b = tol_min - ( a * area_min )\n",
    "    tolerance = ( a * area ) + b\n",
    "    return tolerance\n",
    "\n",
    "print linear_tolerance(6000)"
   ]
  },
  {
   "cell_type": "code",
   "execution_count": null,
   "metadata": {
    "collapsed": false
   },
   "outputs": [],
   "source": [
    "### SIMPLIFY (1) test a : simplify geometries by ratio (tolerance)\n",
    "\n",
    "def simplify_geom(row):\n",
    "    \n",
    "    geom = row[\"geometry\"]\n",
    "    area = row[\"area\"]\n",
    "    \n",
    "    ### put a while loop here for test if simplified shape is plottable\n",
    "    \n",
    "    geom_simplified = geom.simplify( linear_tolerance(area), preserve_topology=False )\n",
    "    \n",
    "    return geom_simplified\n",
    "\n",
    "#gdf_waters_reduced[\"geometry\"] = gdf_waters.apply(simplify_geom, axis=1)\n"
   ]
  },
  {
   "cell_type": "code",
   "execution_count": null,
   "metadata": {
    "collapsed": true
   },
   "outputs": [],
   "source": [
    "### SIMPLIFY (1) test a : simplify geometries by ratio (tolerance)\n",
    "\n",
    "for "
   ]
  },
  {
   "cell_type": "code",
   "execution_count": null,
   "metadata": {
    "collapsed": true
   },
   "outputs": [],
   "source": [
    "#gdf_waters_reduced.loc[ idx[\"E\":\"F\"] , [\"geometry\"] ].plot()\n"
   ]
  },
  {
   "cell_type": "code",
   "execution_count": null,
   "metadata": {
    "collapsed": true
   },
   "outputs": [],
   "source": [
    "plot_waters = gdf_waters_reduced[\"geometry\"].plot( edgecolor='none' ) #, linewidth='0.1' )\n",
    "print \"-- plot_waters finished ...\"\n",
    "\n",
    "#plot_dpt = gdf_dpts.plot( ax=waters_plot, cmap=None, alpha=0, edgecolor='White', linewidth='0.1')\n",
    "plot_water_reg_2015 = gdf_regions_2015.plot( ax=plot_waters, cmap=None, alpha=0, edgecolor='White', linewidth='1')\n"
   ]
  },
  {
   "cell_type": "code",
   "execution_count": null,
   "metadata": {
    "collapsed": false
   },
   "outputs": [],
   "source": [
    "plot_water_dpt = gdf_dpts.plot( ax=plot_waters, cmap=None, alpha=0, edgecolor='White', linewidth='1')\n"
   ]
  },
  {
   "cell_type": "code",
   "execution_count": null,
   "metadata": {
    "collapsed": false
   },
   "outputs": [],
   "source": [
    "plot_water_dpt"
   ]
  },
  {
   "cell_type": "code",
   "execution_count": null,
   "metadata": {
    "collapsed": true
   },
   "outputs": [],
   "source": [
    "fig, ax = plt.subplots()\n",
    "ax.set_aspect('equal')\n",
    "gdf_waters_reduced[\"geometry\"].plot( ax=ax, edgecolor='none')\n",
    "gdf_dpts.plot( ax=ax, cmap=None, alpha=0, edgecolor='White', linewidth='1')\n",
    "plt.show()"
   ]
  },
  {
   "cell_type": "code",
   "execution_count": null,
   "metadata": {
    "collapsed": true
   },
   "outputs": [],
   "source": [
    "plt.show()"
   ]
  },
  {
   "cell_type": "code",
   "execution_count": null,
   "metadata": {
    "collapsed": true
   },
   "outputs": [],
   "source": [
    "### determine tolerance depending on area (Bezier curve)\n",
    "### cf : http://stackoverflow.com/questions/246525/how-can-i-draw-a-bezier-curve-using-pythons-pil \n",
    "\n",
    "\n",
    "P1 = (area_min, tol_min)\n",
    "K1 = (area_max, tol_min)\n",
    "P2 = (area_max, tol_max)\n",
    "K2 = (area_min, tol_max)\n",
    "\n",
    "sequence = [ P1, K1, P2, K2 ]\n",
    "\n",
    "'''\n",
    "import mathutils\n",
    "from mathutils.geometry import interpolate_bezier\n",
    "import mathutils.Vector as vec\n",
    "\n",
    "print interpolate_bezier( vec(P1), vec(K1), vec(K2), vec(P2) )\n",
    "\n",
    "\n",
    "\n",
    "def make_bezier(xys):\n",
    "    # xys should be a sequence of 2-tuples (Bezier control points)\n",
    "    n = len(xys)\n",
    "    \n",
    "    combinations = pascal_row(n-1)\n",
    "    ### if only quadratic curve use :\n",
    "    #combination = (1,3,3,1)\n",
    "    \n",
    "    def bezier(ts):\n",
    "        # This uses the generalized formula for bezier curves\n",
    "        # http://en.wikipedia.org/wiki/B%C3%A9zier_curve#Generalization\n",
    "        result = []\n",
    "        for t in ts:\n",
    "            tpowers = (t**i for i in range(n))\n",
    "            upowers = reversed([(1-t)**i for i in range(n)])\n",
    "            coefs = [c*a*b for c, a, b in zip(combinations, tpowers, upowers)]\n",
    "            result.append(\n",
    "                tuple(sum([coef*p for coef, p in zip(coefs, ps)]) for ps in zip(*xys)))\n",
    "        return result\n",
    "    return bezier\n",
    "\n",
    "def pascal_row(n):\n",
    "    # This returns the nth row of Pascal's Triangle\n",
    "    result = [1]\n",
    "    x, numerator = 1, n\n",
    "    for denominator in range(1, n//2+1):\n",
    "        # print(numerator,denominator,x)\n",
    "        x *= numerator\n",
    "        x /= denominator\n",
    "        result.append(x)\n",
    "        numerator -= 1\n",
    "    if n&1 == 0:\n",
    "        # n is even\n",
    "        result.extend(reversed(result[:-1]))\n",
    "    else:\n",
    "        result.extend(reversed(result)) \n",
    "    return result\n",
    "\n",
    "print make_bezier(sequence)\n",
    "'''"
   ]
  },
  {
   "cell_type": "code",
   "execution_count": null,
   "metadata": {
    "collapsed": true
   },
   "outputs": [],
   "source": [
    "gdf_waters_reduced.head()\n"
   ]
  },
  {
   "cell_type": "code",
   "execution_count": null,
   "metadata": {
    "collapsed": true
   },
   "outputs": [],
   "source": [
    "#gdf_waters_reduced.info(memory_usage=\"deep\")\n"
   ]
  },
  {
   "cell_type": "code",
   "execution_count": null,
   "metadata": {
    "collapsed": true
   },
   "outputs": [],
   "source": [
    "### SIMPLIFY (3) : to topojson\n"
   ]
  },
  {
   "cell_type": "code",
   "execution_count": null,
   "metadata": {
    "collapsed": true
   },
   "outputs": [],
   "source": []
  },
  {
   "cell_type": "code",
   "execution_count": null,
   "metadata": {
    "collapsed": false
   },
   "outputs": [],
   "source": [
    "### test read/write /// .shp --> .json\n",
    "\n",
    "#readSHP(water_shp_fname) ### problem : 1.16 Go file !!!"
   ]
  }
 ],
 "metadata": {
  "anaconda-cloud": {},
  "kernelspec": {
   "display_name": "Python [conda root]",
   "language": "python",
   "name": "conda-root-py"
  },
  "language_info": {
   "codemirror_mode": {
    "name": "ipython",
    "version": 2
   },
   "file_extension": ".py",
   "mimetype": "text/x-python",
   "name": "python",
   "nbconvert_exporter": "python",
   "pygments_lexer": "ipython2",
   "version": "2.7.12"
  }
 },
 "nbformat": 4,
 "nbformat_minor": 1
}
