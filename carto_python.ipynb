{
 "cells": [
  {
   "cell_type": "code",
   "execution_count": 9,
   "metadata": {
    "collapsed": false
   },
   "outputs": [
    {
     "ename": "ImportError",
     "evalue": "No module named app_vars",
     "output_type": "error",
     "traceback": [
      "\u001b[0;31m----------------------------------------------------------------\u001b[0m",
      "\u001b[0;31mImportError\u001b[0m                    Traceback (most recent call last)",
      "\u001b[0;32m<ipython-input-9-2766ade09b72>\u001b[0m in \u001b[0;36m<module>\u001b[0;34m()\u001b[0m\n\u001b[1;32m      7\u001b[0m \u001b[0;32mimport\u001b[0m \u001b[0mgeopandas\u001b[0m\u001b[0;34m\u001b[0m\u001b[0m\n\u001b[1;32m      8\u001b[0m \u001b[0;34m\u001b[0m\u001b[0m\n\u001b[0;32m----> 9\u001b[0;31m \u001b[0;32mfrom\u001b[0m \u001b[0mapp\u001b[0m\u001b[0;34m.\u001b[0m\u001b[0mscripts\u001b[0m\u001b[0;34m.\u001b[0m\u001b[0mtopojson\u001b[0m \u001b[0;32mimport\u001b[0m \u001b[0mtopojson\u001b[0m\u001b[0;34m\u001b[0m\u001b[0m\n\u001b[0m\u001b[1;32m     10\u001b[0m \u001b[0;34m\u001b[0m\u001b[0m\n\u001b[1;32m     11\u001b[0m \u001b[0;32mfrom\u001b[0m \u001b[0mpyproj\u001b[0m \u001b[0;32mimport\u001b[0m \u001b[0mProj\u001b[0m\u001b[0;34m,\u001b[0m \u001b[0mtransform\u001b[0m\u001b[0;34m\u001b[0m\u001b[0m\n",
      "\u001b[0;32m/Users/jpy/Dropbox/_FLASK/concours_pesticides/app/__init__.py\u001b[0m in \u001b[0;36m<module>\u001b[0;34m()\u001b[0m\n\u001b[1;32m     13\u001b[0m \u001b[0;32mimport\u001b[0m \u001b[0mos\u001b[0m\u001b[0;34m\u001b[0m\u001b[0m\n\u001b[1;32m     14\u001b[0m \u001b[0;34m\u001b[0m\u001b[0m\n\u001b[0;32m---> 15\u001b[0;31m \u001b[0;32mfrom\u001b[0m \u001b[0mscripts\u001b[0m\u001b[0;34m.\u001b[0m\u001b[0mapp_vars\u001b[0m \u001b[0;32mimport\u001b[0m \u001b[0mstatic_dir\u001b[0m\u001b[0;34m,\u001b[0m \u001b[0mURLroot_\u001b[0m \u001b[0;31m### custom static directory\u001b[0m\u001b[0;34m\u001b[0m\u001b[0m\n\u001b[0m\u001b[1;32m     16\u001b[0m \u001b[0;34m\u001b[0m\u001b[0m\n\u001b[1;32m     17\u001b[0m \u001b[0;34m\u001b[0m\u001b[0m\n",
      "\u001b[0;31mImportError\u001b[0m: No module named app_vars"
     ]
    }
   ],
   "source": [
    "### basic libraries\n",
    "import os\n",
    "from json import dumps\n",
    "\n",
    "### carto libraries\n",
    "import shapefile\n",
    "import geopandas\n",
    "\n",
    "from app.scripts.topojson import topojson\n",
    "\n",
    "from pyproj import Proj, transform\n",
    "inProj  = Proj(init='epsg:2154') # proj in  : Lambert 93\n",
    "outProj = Proj(init='epsg:4326') # proj out : WSG 84\n",
    "\n",
    "### TO DO : find topojson libraries to reduce output file size\n"
   ]
  },
  {
   "cell_type": "code",
   "execution_count": 2,
   "metadata": {
    "collapsed": false
   },
   "outputs": [
    {
     "name": "stdout",
     "output_type": "stream",
     "text": [
      "-- cwd : /Users/jpy/Dropbox/_FLASK/concours_pesticides\n",
      "-- carto path :  /Users/jpy/Dropbox/_FLASK/concours_pesticides/app/static/data/carto\n"
     ]
    }
   ],
   "source": [
    "### basic folders addresses and names\n",
    "cwd = os.getcwd()\n",
    "\n",
    "data_folder = \"app/static/data\"\n",
    "carto_folder = \"carto\"\n",
    "\n",
    "carto_path = os.path.join(cwd, data_folder, carto_folder)\n",
    "\n",
    "print \"-- cwd :\", cwd\n",
    "print \"-- carto path : \", carto_path\n"
   ]
  },
  {
   "cell_type": "code",
   "execution_count": 3,
   "metadata": {
    "collapsed": true
   },
   "outputs": [],
   "source": [
    "# cf : https://pypi.python.org/pypi/pyshp\n",
    "# cf : http://gis.stackexchange.com/questions/183795/how-do-i-select-shapefiles-to-be-converted-to-geojson-in-folder-with-multiple-sh\n",
    "# cf : https://github.com/mlaloux/Python-geo_interface-applications/blob/master/PyShp_geointerface.py\n",
    "\n",
    "# cf : https://glenbambrick.com/tag/pyshp/\n",
    "# cf : https://glenbambrick.com/2016/01/24/reproject-shapefile/"
   ]
  },
  {
   "cell_type": "code",
   "execution_count": 4,
   "metadata": {
    "collapsed": true
   },
   "outputs": [],
   "source": [
    "### SHP files \n",
    "_shp  = \".shp\"\n",
    "_json = \".json\"\n",
    "_copy = \"_copy\"\n",
    "\n",
    "water_shp_fname = \"PolygMasseDEauSouterraine\"\n",
    "\n",
    "## TO DO : add departements .shp "
   ]
  },
  {
   "cell_type": "code",
   "execution_count": 5,
   "metadata": {
    "collapsed": false
   },
   "outputs": [],
   "source": [
    "### reading/writing - converting shp files to geojson\n",
    "    \n",
    "def geofile_path(filename, extension):\n",
    "    path = os.path.join(carto_path , filename + extension )\n",
    "    print path\n",
    "    return path\n"
   ]
  },
  {
   "cell_type": "code",
   "execution_count": 6,
   "metadata": {
    "collapsed": true
   },
   "outputs": [],
   "source": [
    "'''\n",
    "def readSHP(filename):  \n",
    "    # generator \n",
    "    reader = shapefile.Reader( root_carto_folder+ filename + _shp )  \n",
    "    fields = reader.fields[1:]  \n",
    "    field_names = [field[0] for field in fields]  \n",
    "    for sr in reader.shapeRecords():  \n",
    "        geom = sr.shape.__geo_interface__  \n",
    "        atr = dict(zip(field_names, sr.record))  \n",
    "        yield dict(geometry=geom,properties=atr)    \n",
    "'''\n",
    "\n",
    "def readSHP(filename) :\n",
    "    \n",
    "    # read the shapefile\n",
    "    reader = shapefile.Reader( geofile_path( water_shp_fname, _shp ) )\n",
    "    fields = reader.fields[1:]\n",
    "    field_names = [field[0] for field in fields]\n",
    "\n",
    "    buffer = []\n",
    "    for sr in reader.shapeRecords():\n",
    "       atr = dict(zip(field_names, sr.record))\n",
    "       geom = sr.shape.__geo_interface__\n",
    "       buffer.append(dict(type=\"Feature\", geometry=geom, properties=atr)) \n",
    "\n",
    "    # write the GeoJSON file (copy)\n",
    "    geojson = open( os.path.join( carto_path, filename + _copy + _json), \"w\")\n",
    "    geojson.write(dumps({\"type\": \"FeatureCollection\", \"features\": buffer}, indent=2) + \"\\n\")\n",
    "    geojson.close()\n",
    "    "
   ]
  },
  {
   "cell_type": "code",
   "execution_count": 7,
   "metadata": {
    "collapsed": false
   },
   "outputs": [
    {
     "data": {
      "text/plain": [
       "{u'ellps': u'GRS80',\n",
       " u'lat_0': 46.5,\n",
       " u'lat_1': 49,\n",
       " u'lat_2': 44,\n",
       " u'lon_0': 3,\n",
       " u'no_defs': True,\n",
       " u'proj': u'lcc',\n",
       " u'units': u'm',\n",
       " u'x_0': 700000,\n",
       " u'y_0': 6600000}"
      ]
     },
     "execution_count": 7,
     "metadata": {},
     "output_type": "execute_result"
    }
   ],
   "source": [
    "gdf = geopandas.read_file( geofile_path( water_shp_fname, _shp ))\n",
    "\n",
    "gdf.crs"
   ]
  },
  {
   "cell_type": "code",
   "execution_count": 8,
   "metadata": {
    "collapsed": false
   },
   "outputs": [],
   "source": [
    "#gdf.plot()"
   ]
  },
  {
   "cell_type": "code",
   "execution_count": 18,
   "metadata": {
    "collapsed": false
   },
   "outputs": [],
   "source": [
    "### test read/write /// .shp --> .json\n",
    "\n",
    "#readSHP(water_shp_fname) ### problem : 1.16 Go file !!!"
   ]
  }
 ],
 "metadata": {
  "kernelspec": {
   "display_name": "Python [conda root]",
   "language": "python",
   "name": "conda-root-py"
  },
  "language_info": {
   "codemirror_mode": {
    "name": "ipython",
    "version": 2
   },
   "file_extension": ".py",
   "mimetype": "text/x-python",
   "name": "python",
   "nbconvert_exporter": "python",
   "pygments_lexer": "ipython2",
   "version": "2.7.12"
  }
 },
 "nbformat": 4,
 "nbformat_minor": 1
}
