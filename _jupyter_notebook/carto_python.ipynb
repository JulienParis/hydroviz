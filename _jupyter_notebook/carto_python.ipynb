{
 "cells": [
  {
   "cell_type": "code",
   "execution_count": 7,
   "metadata": {
    "collapsed": false
   },
   "outputs": [],
   "source": [
    "### basic libraries\n",
    "import os\n",
    "from json import dumps\n",
    "\n",
    "\n",
    "### carto libraries\n",
    "import shapefile\n",
    "\n",
    "from pyproj import Proj, transform\n",
    "inProj  = Proj(init='epsg:2154') # proj in  : Lambert 93\n",
    "outProj = Proj(init='epsg:4326') # proj out : WSG 84\n",
    "\n",
    "### TO DO : find topojson libraries to reduce output file size\n"
   ]
  },
  {
   "cell_type": "code",
   "execution_count": 12,
   "metadata": {
    "collapsed": false
   },
   "outputs": [
    {
     "name": "stdout",
     "output_type": "stream",
     "text": [
      "/Users/jpy/Dropbox/_FLASK/concours_pesticides/_jupyter_notebook\n"
     ]
    }
   ],
   "source": [
    "### basic folders addresses and names\n",
    "cwd = os.getcwd()\n",
    "carto_folder_name = \"carto\"\n",
    "\n",
    "root_carto_folder = cwd +\"/\"+ carto_folder_name + \"/\" \n",
    "\n",
    "print cwd"
   ]
  },
  {
   "cell_type": "code",
   "execution_count": 13,
   "metadata": {
    "collapsed": true
   },
   "outputs": [],
   "source": [
    "# cf : https://pypi.python.org/pypi/pyshp\n",
    "# cf : http://gis.stackexchange.com/questions/183795/how-do-i-select-shapefiles-to-be-converted-to-geojson-in-folder-with-multiple-sh\n",
    "# cf : https://github.com/mlaloux/Python-geo_interface-applications/blob/master/PyShp_geointerface.py\n",
    "\n",
    "# cf : https://glenbambrick.com/tag/pyshp/\n",
    "# cf : https://glenbambrick.com/2016/01/24/reproject-shapefile/"
   ]
  },
  {
   "cell_type": "code",
   "execution_count": 14,
   "metadata": {
    "collapsed": true
   },
   "outputs": [],
   "source": [
    "### SHP files \n",
    "_shp  = \".shp\"\n",
    "_json = \".json\"\n",
    "water_shp_fname = \"PolygMasseDEauSouterraine\"\n",
    "_copy = \"_copy\"\n",
    "\n",
    "## TO DO : add departements .shp "
   ]
  },
  {
   "cell_type": "code",
   "execution_count": 17,
   "metadata": {
    "collapsed": true
   },
   "outputs": [],
   "source": [
    "### reading/writing - converting shp files to geojson\n",
    "\n",
    "'''\n",
    "def readSHP(filename):  \n",
    "    # generator \n",
    "    reader = shapefile.Reader( root_carto_folder+ filename + _shp )  \n",
    "    fields = reader.fields[1:]  \n",
    "    field_names = [field[0] for field in fields]  \n",
    "    for sr in reader.shapeRecords():  \n",
    "        geom = sr.shape.__geo_interface__  \n",
    "        atr = dict(zip(field_names, sr.record))  \n",
    "        yield dict(geometry=geom,properties=atr)    \n",
    "'''\n",
    "\n",
    "def readSHP(filename) :\n",
    "    # read the shapefile\n",
    "    reader = shapefile.Reader( root_carto_folder + filename + _shp )\n",
    "    fields = reader.fields[1:]\n",
    "    field_names = [field[0] for field in fields]\n",
    "\n",
    "    buffer = []\n",
    "    for sr in reader.shapeRecords():\n",
    "       atr = dict(zip(field_names, sr.record))\n",
    "       geom = sr.shape.__geo_interface__\n",
    "       buffer.append(dict(type=\"Feature\", geometry=geom, properties=atr)) \n",
    "\n",
    "    # write the GeoJSON file (copy)\n",
    "    geojson = open( root_carto_folder + filename + _copy + _json, \"w\")\n",
    "    geojson.write(dumps({\"type\": \"FeatureCollection\", \"features\": buffer}, indent=2) + \"\\n\")\n",
    "    geojson.close()\n",
    "    \n",
    "    "
   ]
  },
  {
   "cell_type": "code",
   "execution_count": 18,
   "metadata": {
    "collapsed": false
   },
   "outputs": [],
   "source": [
    "### test read/write /// .shp --> .json\n",
    "\n",
    "readSHP(water_shp_fname) ### problem : 1.16 Go file !!!"
   ]
  },
  {
   "cell_type": "code",
   "execution_count": null,
   "metadata": {
    "collapsed": true
   },
   "outputs": [],
   "source": []
  },
  {
   "cell_type": "code",
   "execution_count": null,
   "metadata": {
    "collapsed": true
   },
   "outputs": [],
   "source": []
  }
 ],
 "metadata": {
  "kernelspec": {
   "display_name": "Python [conda root]",
   "language": "python",
   "name": "conda-root-py"
  },
  "language_info": {
   "codemirror_mode": {
    "name": "ipython",
    "version": 2
   },
   "file_extension": ".py",
   "mimetype": "text/x-python",
   "name": "python",
   "nbconvert_exporter": "python",
   "pygments_lexer": "ipython2",
   "version": "2.7.12"
  }
 },
 "nbformat": 4,
 "nbformat_minor": 1
}
